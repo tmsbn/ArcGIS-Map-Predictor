{
 "cells": [
  {
   "cell_type": "code",
   "execution_count": 17,
   "metadata": {
    "collapsed": true
   },
   "outputs": [],
   "source": [
    "import os\n",
    "import glob\n",
    "from os import walk\n",
    "from PIL import Image"
   ]
  },
  {
   "cell_type": "code",
   "execution_count": 18,
   "metadata": {},
   "outputs": [
    {
     "name": "stdout",
     "output_type": "stream",
     "text": [
      "/Users/tmsbn/Desktop/esri project/original data/*.tif\n"
     ]
    }
   ],
   "source": [
    "from_extension = '.tif'\n",
    "to_extension = '.jpg'\n",
    "original_dataset_dir = os.path.join(os.path.expanduser('~'),'Desktop', 'esri project', 'original data')\n",
    "original_dataset_dir_files = os.path.join(original_dataset_dir, '*' + from_extension)\n",
    "print(original_dataset_dir_files)"
   ]
  },
  {
   "cell_type": "code",
   "execution_count": 19,
   "metadata": {
    "collapsed": true
   },
   "outputs": [],
   "source": [
    "for file in glob.glob(original_dataset_dir_files):\n",
    "    \n",
    "    im = Image.open(file.title())\n",
    "    outfile = os.path.splitext(file.title())[0] + \".jpg\"\n",
    "    im.thumbnail(im.size)\n",
    "    im.save(outfile, \"JPEG\", quality=100)"
   ]
  }
 ],
 "metadata": {
  "kernelspec": {
   "display_name": "Python 3",
   "language": "python",
   "name": "python3"
  },
  "language_info": {
   "codemirror_mode": {
    "name": "ipython",
    "version": 3
   },
   "file_extension": ".py",
   "mimetype": "text/x-python",
   "name": "python",
   "nbconvert_exporter": "python",
   "pygments_lexer": "ipython3",
   "version": "3.4.3"
  }
 },
 "nbformat": 4,
 "nbformat_minor": 2
}
