{
 "cells": [
  {
   "cell_type": "code",
   "execution_count": 6,
   "metadata": {
    "collapsed": true
   },
   "outputs": [],
   "source": [
    "import os, shutil\n",
    "from os import listdir\n",
    "from os.path import isfile, join, expanduser\n",
    "from shutil import copyfile\n",
    "from file_utils import make_dir_helper"
   ]
  },
  {
   "cell_type": "code",
   "execution_count": 13,
   "metadata": {},
   "outputs": [],
   "source": [
    "SOURCE_DIR = join(expanduser('~'), 'Desktop', 'Esri Project', 'datasets','original data 3', 'patch');\n",
    "DEST_DIR = join(expanduser('~'), 'Desktop', 'Esri Project', 'datasets', 'esri roads dataset' , 'others');\n",
    "DEST_BASE_NAME = 'image_'\n",
    "DEST_EXT = '.jpg'\n",
    "\n",
    "make_dir_helper(DEST_DIR)\n",
    "\n",
    "start_idx = 10000\n",
    "for idx, fname in enumerate(listdir(SOURCE_DIR)):\n",
    "    if isfile(join(SOURCE_DIR, fname)):\n",
    "        src_file = join(SOURCE_DIR, fname)\n",
    "        dest_file = join(DEST_DIR, DEST_BASE_NAME + str(start_idx + idx) + DEST_EXT)\n",
    "        copyfile(src_file, dest_file)"
   ]
  }
 ],
 "metadata": {
  "kernelspec": {
   "display_name": "Python 3",
   "language": "python",
   "name": "python3"
  },
  "language_info": {
   "codemirror_mode": {
    "name": "ipython",
    "version": 3
   },
   "file_extension": ".py",
   "mimetype": "text/x-python",
   "name": "python",
   "nbconvert_exporter": "python",
   "pygments_lexer": "ipython3",
   "version": "3.6.1"
  }
 },
 "nbformat": 4,
 "nbformat_minor": 2
}
