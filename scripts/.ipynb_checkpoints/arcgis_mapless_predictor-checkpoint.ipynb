{
 "cells": [
  {
   "cell_type": "code",
   "execution_count": 23,
   "metadata": {},
   "outputs": [],
   "source": [
    "from urllib.request import urlretrieve\n",
    "from urllib.parse import urlencode\n",
    "import image_slicer\n",
    "import traceback\n",
    "from os import listdir, remove, mkdir\n",
    "from os.path import join, exists, expanduser\n",
    "from shutil import rmtree\n",
    "from file_utils import make_dir_helper, is_jpeg, delete_dir_helper\n",
    "from PIL import Image\n",
    "from keras.preprocessing import image\n",
    "from keras import optimizers, regularizers, models, layers\n",
    "from keras.models import load_model, model_from_json"
   ]
  },
  {
   "cell_type": "code",
   "execution_count": 24,
   "metadata": {
    "collapsed": true
   },
   "outputs": [],
   "source": [
    "def crop(map_file_path, sliced_dir, height, width):\n",
    "    \n",
    "    with Image.open(map_file_path) as im:\n",
    "        imgwidth, imgheight = im.size\n",
    "        idx = 0\n",
    "        for i in range(0,imgheight - height , height): # Don't include borders\n",
    "            for j in range(0,imgwidth - width , width):\n",
    "                box = (j, i, j+width, i+height)\n",
    "                try:\n",
    "                    a = im.crop(box)\n",
    "                    a.save(join(sliced_dir, 'image_{}.jpg'.format(idx)), \"JPEG\", quality=100, optimize=True)\n",
    "                except:\n",
    "                    traceback.print_exc()\n",
    "                    pass\n",
    "                idx +=1"
   ]
  },
  {
   "cell_type": "code",
   "execution_count": null,
   "metadata": {},
   "outputs": [],
   "source": [
    "def predict_class(model, data_dir, pred_dir, class_names):\n",
    "    \n",
    "    image_size = 256\n",
    "    \n",
    "    model.compile(loss='categorical_crossentropy',optimizer=optimizers.RMSprop(lr=1e-4), metrics=['acc'])\n",
    "    model.summary()\n",
    "    \n",
    "    fnames = [fname for fname in listdir(data_dir) if is_jpeg(fname)]\n",
    "    print(fnames)\n",
    "    \n",
    "    for idx, fname in enumerate(fnames):\n",
    "        \n",
    "        img_path = join(data_dir, fname)\n",
    "        print(img_path)\n",
    "        \n",
    "        img = image.load_img(img_path, target_size=(IMAGE_SIZE, IMAGE_SIZE)) \n",
    "        x = image.img_to_array(img)\n",
    "        x = x.reshape((1,) + x.shape)\n",
    "        \n",
    "        prediction = model.predict(x)[0]\n",
    "#         max_index = np.argmax(prediction)\n",
    "#         max_val = np.amax(prediction)\n",
    "        \n",
    "#         pred_class = class_names[max_index]\n",
    "#         pred_class_dir = join(pred_dir, pred_class)\n",
    "#         make_dir_helper(pred_class_dir)\n",
    "        \n",
    "#         img.save(join(pred_class_dir, 'image_{}.jpg'.format(idx)), \"JPEG\", quality=100, optimize=True)\n",
    "        "
   ]
  },
  {
   "cell_type": "code",
   "execution_count": null,
   "metadata": {},
   "outputs": [
    {
     "name": "stdout",
     "output_type": "stream",
     "text": [
      "_________________________________________________________________\n",
      "Layer (type)                 Output Shape              Param #   \n",
      "=================================================================\n",
      "vgg16 (Model)                (None, 4, 4, 512)         14714688  \n",
      "_________________________________________________________________\n",
      "flatten_2 (Flatten)          (None, 8192)              0         \n",
      "_________________________________________________________________\n",
      "dense_3 (Dense)              (None, 128)               1048704   \n",
      "_________________________________________________________________\n",
      "dropout_2 (Dropout)          (None, 128)               0         \n",
      "_________________________________________________________________\n",
      "dense_4 (Dense)              (None, 6)                 774       \n",
      "=================================================================\n",
      "Total params: 15,764,166\n",
      "Trainable params: 15,764,166\n",
      "Non-trainable params: 0\n",
      "_________________________________________________________________\n",
      "['image_0.jpg', 'image_1.jpg', 'image_10.jpg', 'image_11.jpg', 'image_12.jpg', 'image_13.jpg', 'image_14.jpg', 'image_15.jpg', 'image_16.jpg', 'image_17.jpg', 'image_18.jpg', 'image_19.jpg', 'image_2.jpg', 'image_20.jpg', 'image_21.jpg', 'image_22.jpg', 'image_23.jpg', 'image_24.jpg', 'image_25.jpg', 'image_26.jpg', 'image_27.jpg', 'image_28.jpg', 'image_29.jpg', 'image_3.jpg', 'image_30.jpg', 'image_31.jpg', 'image_32.jpg', 'image_33.jpg', 'image_34.jpg', 'image_35.jpg', 'image_4.jpg', 'image_5.jpg', 'image_6.jpg', 'image_7.jpg', 'image_8.jpg', 'image_9.jpg']\n",
      "C:\\Users\\thom8982\\desktop\\Esri Project\\maps\\sliced\\image_0.jpg\n"
     ]
    }
   ],
   "source": [
    "URL = 'http://services.arcgisonline.com/arcgis/rest/services/World_Imagery/MapServer/export?'\n",
    "x_min = -117.261067\n",
    "y_min = 33.052972\n",
    "x_max = -117.256993\n",
    "y_max = 33.054659\n",
    "spatial_ref = 4326\n",
    "width = 1000\n",
    "height = 1000\n",
    "\n",
    "CLASSES = {'agricultural', 'chaparral', 'denseresidential', 'forest', 'freeway', 'harbor', 'parkinglot', 'river', 'storagetanks'}\n",
    "\n",
    "parameters = {\n",
    "    'bbox':'{},{},{},{}'.format(x_min, y_min, x_max, y_max),\n",
    "    'bboxSR':spatial_ref,\n",
    "    'size':'{},{}'.format(width, height),\n",
    "    'format':'jpg',\n",
    "    'f':'image'\n",
    "}\n",
    "\n",
    "URL += urlencode(parameters)\n",
    "\n",
    "PROJECT_DIR = join(expanduser('~'),'desktop','Esri Project');\n",
    "MAP_NAME = 'map.jpg'\n",
    "MAP_DIR = join(PROJECT_DIR, 'maps')\n",
    "SLICED_DIR = join(MAP_DIR, 'sliced')\n",
    "PRED_DIR = join(MAP_DIR, 'predicted')\n",
    "MODEL_FILE_PATH = join(PROJECT_DIR, 'models', 'map_multi_model_3.h5')\n",
    "IMAGE_SIZE = 150\n",
    "\n",
    "delete_dir_helper(SLICED_DIR)\n",
    "\n",
    "make_dir_helper(MAP_DIR)\n",
    "make_dir_helper(SLICED_DIR)\n",
    "make_dir_helper(PRED_DIR)\n",
    "\n",
    "\n",
    "MAP_FILE_PATH = join(MAP_DIR, MAP_NAME)\n",
    "\n",
    "\n",
    "if urlretrieve(URL, MAP_FILE_PATH):\n",
    "\n",
    "    tile_size = 200\n",
    "    crop(MAP_FILE_PATH, SLICED_DIR, IMAGE_SIZE, IMAGE_SIZE)\n",
    "    model = load_model(MODEL_FILE_PATH)\n",
    "    predict_class(model, SLICED_DIR, PRED_DIR, CLASSES)\n",
    "    "
   ]
  }
 ],
 "metadata": {
  "kernelspec": {
   "display_name": "Python 3",
   "language": "python",
   "name": "python3"
  },
  "language_info": {
   "codemirror_mode": {
    "name": "ipython",
    "version": 3
   },
   "file_extension": ".py",
   "mimetype": "text/x-python",
   "name": "python",
   "nbconvert_exporter": "python",
   "pygments_lexer": "ipython3",
   "version": "3.6.1"
  }
 },
 "nbformat": 4,
 "nbformat_minor": 2
}
