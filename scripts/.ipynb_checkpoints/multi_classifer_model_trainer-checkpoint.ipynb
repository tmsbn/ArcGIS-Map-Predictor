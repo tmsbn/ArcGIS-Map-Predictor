{
 "cells": [
  {
   "cell_type": "markdown",
   "metadata": {},
   "source": [
    "### Instructions\n",
    "This script is for training a multi-class classification model CNN from the given dataset using Keras + Tensorflow stack.\n",
    "1. Configure the paramers as required\n",
    "2. Configure the model as required\n",
    "3. Run all the cells"
   ]
  },
  {
   "cell_type": "markdown",
   "metadata": {},
   "source": [
    "### Imports\n",
    "\n",
    "imports the required modules from keras, Tensorflow, PIL, numpy and custom file handling functions"
   ]
  },
  {
   "cell_type": "code",
   "execution_count": 1,
   "metadata": {},
   "outputs": [
    {
     "name": "stderr",
     "output_type": "stream",
     "text": [
      "Using TensorFlow backend.\n"
     ]
    }
   ],
   "source": [
    "from keras.models import Sequential\n",
    "from keras.layers import Dense, Dropout, Flatten\n",
    "from keras.layers.convolutional import Conv2D, MaxPooling2D, ZeroPadding2D\n",
    "from keras.datasets import mnist\n",
    "from keras.utils import to_categorical\n",
    "from keras.preprocessing.image import ImageDataGenerator\n",
    "from keras.preprocessing import image\n",
    "from keras import optimizers, regularizers, models, layers\n",
    "from keras.callbacks import EarlyStopping, ModelCheckpoint\n",
    "from random import shuffle, randint\n",
    "import numpy as np\n",
    "import future\n",
    "from keras.applications import VGG16\n",
    "from PIL import Image\n",
    "\n",
    "import matplotlib.pyplot as plt\n",
    "\n",
    "from os import listdir, mkdir\n",
    "from os.path import join, isfile, isdir, exists, expanduser\n",
    "from shutil import rmtree, copyfile\n",
    "import file_utils\n",
    "from file_utils import make_dir_helper, delete_dir_helper, is_jpeg\n",
    "from keras.models import load_model, model_from_json"
   ]
  },
  {
   "cell_type": "markdown",
   "metadata": {},
   "source": [
    "### Configurable parameters\n",
    "Defines various constants, directory paths and design of the model"
   ]
  },
  {
   "cell_type": "code",
   "execution_count": 2,
   "metadata": {},
   "outputs": [
    {
     "name": "stdout",
     "output_type": "stream",
     "text": [
      "['agricultural', 'buildings', 'land', 'parking', 'residential', 'roads']\n"
     ]
    }
   ],
   "source": [
    "project_dir_name = join('desktop','Esri Project')\n",
    "original_dataset_dir = join(expanduser('~'), project_dir_name, 'datasets', 'redlands dataset');\n",
    "base_dir =  join(expanduser('~'), project_dir_name, 'temp data');\n",
    "base_scripts_dir =  join(expanduser('~'), project_dir_name, 'scripts');\n",
    "model_dir =  join(expanduser('~'),  project_dir_name, 'models');\n",
    "\n",
    "MODEL_FILE_NAME = 'redlands_multi_classifier_model.h5'\n",
    "\n",
    "CLASSES_TO_CLASSIFY = ['agricultural', 'buildings', 'land', 'parking', 'residential', 'roads']\n",
    "print(CLASSES_TO_CLASSIFY)\n",
    "NO_OF_CLASSES = len(CLASSES_TO_CLASSIFY)\n",
    "\n",
    "ext = '.jpg'\n",
    "IMAGE_SIZE = 128\n",
    "EPOCHS = 30\n",
    "BATCH_SIZE = 15\n",
    "STEPS_PER_EPOCH = 5\n",
    "\n",
    "def configure_model():\n",
    "    \n",
    "    model = models.Sequential()\n",
    "    conv_base = VGG16(weights='imagenet' ,include_top=False, input_shape=(IMAGE_SIZE, IMAGE_SIZE, 3))\n",
    "    \n",
    "    for layer in conv_base.layers:\n",
    "        if 'block_5' in layer.name:\n",
    "            layer.trainable = True\n",
    "        else:\n",
    "            layer.trainable = False\n",
    "\n",
    "    \n",
    "    model.add(conv_base)\n",
    "    model.add(layers.Flatten())\n",
    "    model.add(layers.Dense(256, activation='relu', kernel_regularizer=regularizers.l2(0.001)))\n",
    "    model.add(layers.Dropout(0.3))\n",
    "    model.add(layers.Dense(NO_OF_CLASSES, activation='softmax'))\n",
    "    return model;"
   ]
  },
  {
   "cell_type": "markdown",
   "metadata": {},
   "source": [
    "### Make required directories\n",
    "Make the directories for training data, validation data & testing data"
   ]
  },
  {
   "cell_type": "code",
   "execution_count": 3,
   "metadata": {
    "collapsed": true
   },
   "outputs": [],
   "source": [
    "# Delete the previous data folder and all its contents\n",
    "delete_dir_helper(base_dir)\n",
    "\n",
    "# Define train, test and validation directories\n",
    "train_dir = join(base_dir, 'train')\n",
    "validation_dir = join(base_dir, 'validation')\n",
    "test_dir = join(base_dir, 'test')\n",
    "model_file_path = join(model_dir, MODEL_FILE_NAME)\n",
    "\n",
    "make_dir_helper(base_dir)\n",
    "make_dir_helper(model_dir)\n",
    "\n",
    "# Make base directories\n",
    "make_dir_helper(train_dir)\n",
    "make_dir_helper(validation_dir)\n",
    "make_dir_helper(test_dir)\n",
    "\n",
    "for classes in CLASSES_TO_CLASSIFY:\n",
    "    \n",
    "    train_class_dir = join(train_dir, classes)\n",
    "    validation_class_dir = join(validation_dir, classes)\n",
    "    test_class_dir = join(test_dir, classes)\n",
    "    \n",
    "    # Make train sub directories\n",
    "    make_dir_helper(train_class_dir)\n",
    "    make_dir_helper(validation_class_dir)\n",
    "    make_dir_helper(test_class_dir)\n",
    "    \n",
    "    \n",
    "    original_dataset_class_dir = join(original_dataset_dir, classes)\n",
    "    fnames = [fname for fname in listdir(original_dataset_class_dir) if isfile(join(original_dataset_class_dir,fname)) and is_jpeg(fname)]\n",
    "    \n",
    "    no_of_samples = len(fnames)\n",
    "    shuffle(fnames)\n",
    "    \n",
    "    no_of_samples_cut = round(no_of_samples * 0.7)\n",
    "    \n",
    "    for idx, fname in enumerate(fnames):\n",
    "        \n",
    "        src_dir = join(original_dataset_class_dir, fname)\n",
    "        if idx < no_of_samples_cut:\n",
    "            dst_dir = join(train_class_dir, fname)\n",
    "            copyfile(src_dir, dst_dir)\n",
    "        elif no_of_samples_cut <= idx < no_of_samples:\n",
    "            dst_dir = join(validation_class_dir, fname)\n",
    "            copyfile(src_dir, dst_dir)\n",
    "            \n",
    "            dst_dir = join(test_class_dir, fname)\n",
    "            copyfile(src_dir, dst_dir)"
   ]
  },
  {
   "cell_type": "markdown",
   "metadata": {},
   "source": [
    "### Build the CNN Model\n",
    "Design a CNN model for multi-label classification. The model is designed on top the original VGG 16 dataset which produces the most accurate model"
   ]
  },
  {
   "cell_type": "code",
   "execution_count": 4,
   "metadata": {},
   "outputs": [
    {
     "name": "stdout",
     "output_type": "stream",
     "text": [
      "NO saved model with name redlands_multi_classifier_model.h5\n",
      "Found 2239 images belonging to 6 classes.\n",
      "Found 960 images belonging to 6 classes.\n",
      "data batch: (15, 128, 128, 3)\n",
      "labels batch: (15, 6)\n",
      "_________________________________________________________________\n",
      "Layer (type)                 Output Shape              Param #   \n",
      "=================================================================\n",
      "vgg16 (Model)                (None, 4, 4, 512)         14714688  \n",
      "_________________________________________________________________\n",
      "flatten_1 (Flatten)          (None, 8192)              0         \n",
      "_________________________________________________________________\n",
      "dense_1 (Dense)              (None, 256)               2097408   \n",
      "_________________________________________________________________\n",
      "dropout_1 (Dropout)          (None, 256)               0         \n",
      "_________________________________________________________________\n",
      "dense_2 (Dense)              (None, 6)                 1542      \n",
      "=================================================================\n",
      "Total params: 16,813,638\n",
      "Trainable params: 2,098,950\n",
      "Non-trainable params: 14,714,688\n",
      "_________________________________________________________________\n",
      "Epoch 1/30\n",
      "10/10 [==============================] - 27s - loss: 2.1775 - acc: 0.4067 - val_loss: 1.8191 - val_acc: 0.5133\n",
      "Epoch 2/30\n",
      "10/10 [==============================] - 18s - loss: 1.7515 - acc: 0.5600 - val_loss: 1.5584 - val_acc: 0.5867\n",
      "Epoch 3/30\n",
      "10/10 [==============================] - 17s - loss: 1.7240 - acc: 0.5000 - val_loss: 1.4722 - val_acc: 0.6933\n",
      "Epoch 4/30\n",
      "10/10 [==============================] - 17s - loss: 1.3772 - acc: 0.6867 - val_loss: 1.2176 - val_acc: 0.7400\n",
      "Epoch 5/30\n",
      "10/10 [==============================] - 17s - loss: 1.3419 - acc: 0.7067 - val_loss: 1.2016 - val_acc: 0.7467\n",
      "Epoch 6/30\n",
      "10/10 [==============================] - 17s - loss: 1.4000 - acc: 0.6600 - val_loss: 1.0916 - val_acc: 0.7400\n",
      "Epoch 7/30\n",
      "10/10 [==============================] - 17s - loss: 1.1959 - acc: 0.7267 - val_loss: 1.0991 - val_acc: 0.7667\n",
      "Epoch 8/30\n",
      "10/10 [==============================] - 17s - loss: 1.2677 - acc: 0.6733 - val_loss: 1.0060 - val_acc: 0.7867\n",
      "Epoch 9/30\n",
      "10/10 [==============================] - 17s - loss: 1.1474 - acc: 0.6800 - val_loss: 0.9841 - val_acc: 0.8133\n",
      "Epoch 10/30\n",
      "10/10 [==============================] - 17s - loss: 1.0777 - acc: 0.7533 - val_loss: 0.8764 - val_acc: 0.8000\n",
      "Epoch 11/30\n",
      "10/10 [==============================] - 17s - loss: 0.9980 - acc: 0.7867 - val_loss: 0.8532 - val_acc: 0.8067\n",
      "Epoch 12/30\n",
      "10/10 [==============================] - 17s - loss: 1.0578 - acc: 0.7200 - val_loss: 0.9544 - val_acc: 0.7667\n",
      "Epoch 13/30\n",
      "10/10 [==============================] - 17s - loss: 1.0171 - acc: 0.7333 - val_loss: 0.8934 - val_acc: 0.7933\n",
      "Epoch 14/30\n",
      "10/10 [==============================] - 17s - loss: 0.9524 - acc: 0.7933 - val_loss: 0.8729 - val_acc: 0.8133\n",
      "Epoch 15/30\n",
      "10/10 [==============================] - 20s - loss: 0.8516 - acc: 0.8391 - val_loss: 0.7576 - val_acc: 0.8200\n",
      "Epoch 16/30\n",
      "10/10 [==============================] - 17s - loss: 0.9245 - acc: 0.7667 - val_loss: 0.7909 - val_acc: 0.8333\n",
      "Epoch 17/30\n",
      "10/10 [==============================] - 17s - loss: 0.9063 - acc: 0.7667 - val_loss: 0.7778 - val_acc: 0.7933\n",
      "Epoch 18/30\n",
      "10/10 [==============================] - 17s - loss: 0.9014 - acc: 0.7733 - val_loss: 0.7356 - val_acc: 0.8533\n",
      "Epoch 19/30\n",
      "10/10 [==============================] - 17s - loss: 0.8737 - acc: 0.7800 - val_loss: 0.7581 - val_acc: 0.8133\n"
     ]
    },
    {
     "data": {
      "image/png": "[encoded data removed]",
      "text/plain": [
       "<matplotlib.figure.Figure at 0x26e090dddd8>"
      ]
     },
     "metadata": {},
     "output_type": "display_data"
    },
    {
     "data": {
      "image/png": "[encoded data removed]",
      "text/plain": [
       "<matplotlib.figure.Figure at 0x26e098935f8>"
      ]
     },
     "metadata": {},
     "output_type": "display_data"
    }
   ],
   "source": [
    "def compile_model(model):\n",
    "    \n",
    "    model.compile(loss='categorical_crossentropy',\n",
    "            optimizer=optimizers.RMSprop(lr=1e-4),\n",
    "             metrics=['acc'])\n",
    "    model.summary()\n",
    "\n",
    "model = None\n",
    "if exists(model_file_path):\n",
    "    model = load_model(model_file_path)\n",
    "    print('Found saved model with name ' + MODEL_FILE_NAME)\n",
    "    compile_model(model)\n",
    "\n",
    "else:\n",
    "    print('NO saved model with name ' + MODEL_FILE_NAME)   \n",
    "    train_datagen = ImageDataGenerator(rescale=1./255,\n",
    "                                       vertical_flip=True,\n",
    "                                       shear_range=0.2,\n",
    "                                       zoom_range=0.2,\n",
    "                                       rotation_range=40,\n",
    "                                       width_shift_range=0.2,\n",
    "                                       height_shift_range=0.2,\n",
    "                                       horizontal_flip=True)  \n",
    "    test_datagen = ImageDataGenerator(rescale=1./255)\n",
    "\n",
    "    train_generator = train_datagen.flow_from_directory(\n",
    "            train_dir,  \n",
    "            target_size=(IMAGE_SIZE, IMAGE_SIZE),  \n",
    "            batch_size=BATCH_SIZE,\n",
    "            class_mode='categorical')  \n",
    "\n",
    "    validation_generator = test_datagen.flow_from_directory(\n",
    "            validation_dir,\n",
    "            target_size=(IMAGE_SIZE, IMAGE_SIZE),\n",
    "            batch_size=BATCH_SIZE,\n",
    "            class_mode='categorical')\n",
    "\n",
    "    for idx, (data_batch, labels_batch) in enumerate(train_generator):\n",
    "        print('data batch:', data_batch.shape)\n",
    "        print('labels batch:', labels_batch.shape)\n",
    "        break\n",
    "\n",
    "    model = configure_model()\n",
    "\n",
    "    compile_model(model)\n",
    "\n",
    "    callbacks = [\n",
    "        EarlyStopping(monitor='acc', patience=3, mode='auto'),\n",
    "        ModelCheckpoint(monitor='val_loss', save_best_only=True, filepath=model_file_path)\n",
    "    ]\n",
    "    \n",
    "    history = model.fit_generator(\n",
    "        train_generator,\n",
    "        steps_per_epoch=10,\n",
    "        epochs=EPOCHS,\n",
    "        validation_data=validation_generator,\n",
    "        callbacks = callbacks,\n",
    "        validation_steps=10)\n",
    "\n",
    "    acc = history.history['acc']\n",
    "    val_acc = history.history['val_acc']\n",
    "    loss = history.history['loss']\n",
    "    val_loss = history.history['val_loss']\n",
    "\n",
    "    epochs = range(len(acc))\n",
    "\n",
    "    plt.plot(epochs, acc, 'b+')\n",
    "    plt.plot(epochs, val_acc, 'bo')\n",
    "    plt.title('Training and validation accuracy')\n",
    "\n",
    "    plt.figure()\n",
    "\n",
    "    plt.plot(epochs, loss, 'b+')\n",
    "    plt.plot(epochs, val_loss, 'bo')\n",
    "    plt.title('Training and validation loss')\n",
    "\n",
    "    plt.show()"
   ]
  },
  {
   "cell_type": "markdown",
   "metadata": {},
   "source": [
    "### Evaluate the model \n",
    "Evalute the model using a confusion matrix to understand the performance of the model"
   ]
  },
  {
   "cell_type": "code",
   "execution_count": 5,
   "metadata": {},
   "outputs": [
    {
     "name": "stdout",
     "output_type": "stream",
     "text": [
      "Found 81 images belonging to 1 classes.\n",
      "(81, 6)\n",
      "agricultural:71.60493827160494\n",
      "Found 69 images belonging to 1 classes.\n",
      "(69, 6)\n",
      "buildings:88.40579710144928\n",
      "Found 94 images belonging to 1 classes.\n",
      "(94, 6)\n",
      "land:91.48936170212765\n",
      "Found 87 images belonging to 1 classes.\n",
      "(87, 6)\n",
      "parking:32.18390804597701\n",
      "Found 158 images belonging to 1 classes.\n",
      "(158, 6)\n",
      "residential:66.45569620253164\n",
      "Found 471 images belonging to 1 classes.\n",
      "(471, 6)\n",
      "roads:95.75371549893843\n"
     ]
    }
   ],
   "source": [
    "for curr_class in CLASSES_TO_CLASSIFY: \n",
    "    \n",
    "    dir_name = join(test_dir, curr_class);\n",
    "    no_of_samples = len(listdir(dir_name))\n",
    "    \n",
    "    test_generator = test_datagen.flow_from_directory(\n",
    "            test_dir,\n",
    "            target_size=(IMAGE_SIZE, IMAGE_SIZE),\n",
    "            batch_size=BATCH_SIZE,\n",
    "            classes = [curr_class],\n",
    "            shuffle=False,\n",
    "            save_format='jpeg',\n",
    "            class_mode=None)\n",
    "    predictions = model.predict_generator(test_generator, (no_of_samples // BATCH_SIZE) + 1 , max_queue_size=10, workers=8, use_multiprocessing=False, verbose=0)\n",
    "   \n",
    "    correct_count = 0\n",
    "    \n",
    "    print(predictions.shape)\n",
    "    \n",
    "    for idx, prediction in enumerate(predictions):\n",
    "        \n",
    "        max_val = np.amax(prediction)\n",
    "        max_index = np.argmax(prediction)\n",
    "        pred_class = CLASSES_TO_CLASSIFY[max_index]\n",
    "        \n",
    "        if curr_class == pred_class:\n",
    "            correct_count += 1\n",
    "      \n",
    "    print(curr_class + ':' + str(correct_count / len(predictions) * 100))"
   ]
  },
  {
   "cell_type": "code",
   "execution_count": 11,
   "metadata": {
    "collapsed": true
   },
   "outputs": [],
   "source": [
    "test_generator??"
   ]
  }
 ],
 "metadata": {
  "kernelspec": {
   "display_name": "Python 3",
   "language": "python",
   "name": "python3"
  },
  "language_info": {
   "codemirror_mode": {
    "name": "ipython",
    "version": 3
   },
   "file_extension": ".py",
   "mimetype": "text/x-python",
   "name": "python",
   "nbconvert_exporter": "python",
   "pygments_lexer": "ipython3",
   "version": "3.6.1"
  }
 },
 "nbformat": 4,
 "nbformat_minor": 2
}
