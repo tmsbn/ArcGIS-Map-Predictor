{
 "cells": [
  {
   "cell_type": "code",
   "execution_count": 3,
   "metadata": {},
   "outputs": [],
   "source": [
    "from keras.models import Sequential\n",
    "from keras.layers import Dense, Dropout, Flatten\n",
    "from keras.layers.convolutional import Conv2D, MaxPooling2D, ZeroPadding2D\n",
    "from keras.datasets import mnist\n",
    "from keras.utils import to_categorical\n",
    "from keras.preprocessing.image import ImageDataGenerator\n",
    "from keras.preprocessing import image\n",
    "from keras import layers\n",
    "from keras import models\n",
    "from keras import optimizers\n",
    "from random import shuffle, randint\n",
    "import numpy as np\n",
    "\n",
    "import matplotlib.pyplot as plt\n",
    "import os, shutil\n",
    "from os import listdir\n",
    "from os.path import isfile, join\n",
    "from keras.models import load_model, model_from_json\n",
    "from pathlib import Path"
   ]
  },
  {
   "cell_type": "code",
   "execution_count": null,
   "metadata": {
    "collapsed": true
   },
   "outputs": [],
   "source": [
    "def make_dir_helper(dir_path):\n",
    "    if not os.path.exists(dir_path):\n",
    "        os.makedirs(dir_path)\n",
    "        return True\n",
    "    return False"
   ]
  },
  {
   "cell_type": "code",
   "execution_count": null,
   "metadata": {
    "collapsed": true
   },
   "outputs": [],
   "source": [
    "project_dir_name = 'Esri Project'\n",
    "base_scripts_dir =  join(os.path.expanduser('~'), 'Desktop', project_dir_name, 'scripts');\n",
    "model_dir =  join(os.path.expanduser('~'), 'Desktop', project_dir_name, 'models');\n",
    "\n",
    "POSITIVE_CLASS = 'buildings'\n",
    "NEGATIVE_CLASS = 'others'\n",
    "MODEL_FILE_NAME = POSITIVE_CLASS + '_model_single_label.h5'\n",
    "ext = '.jpg'\n",
    "IMAGE_SIZE = 150\n",
    "EPOCHS = 15\n",
    "NO_TRAINING_SAMPLES = 70\n",
    "BATCH_SIZE = 15\n",
    "STEPS_PER_EPOCH = 5\n",
    "\n",
    "dataset_dir_name = POSITIVE_CLASS + ' dataset'\n",
    "original_dataset_dir = join(os.path.expanduser('~'),'Desktop', project_dir_name, 'original data', dataset_dir_name);\n",
    "positive_dataset_dir = join(original_dataset_dir, POSITIVE_CLASS)\n",
    "negative_dataset_dir = join(original_dataset_dir, NEGATIVE_CLASS)\n",
    "\n",
    "base_data_dir =  join(os.path.expanduser('~'), 'Desktop', project_dir_name, 'data', dataset_dir_name);\n",
    "\n",
    "train_dir = join(base_data_dir, 'train')\n",
    "validation_dir = join(base_data_dir, 'validation')\n",
    "test_dir = join(base_data_dir, 'test')\n",
    "\n",
    "model_file_path = join(model_dir, MODEL_FILE_NAME)\n",
    "\n",
    "train_pos_dir = join(train_dir, POSITIVE_CLASS)\n",
    "validation_pos_dir = join(validation_dir, POSITIVE_CLASS)\n",
    "test_pos_dir = join(test_dir, POSITIVE_CLASS)\n",
    "\n",
    "train_neg_dir = join(train_dir, NEGATIVE_CLASS)\n",
    "validation_neg_dir = join(validation_dir, NEGATIVE_CLASS)\n",
    "test_neg_dir = join(test_dir, NEGATIVE_CLASS)"
   ]
  },
  {
   "cell_type": "code",
   "execution_count": null,
   "metadata": {},
   "outputs": [],
   "source": [
    "# Make base directories\n",
    "make_dir_helper(base_data_dir)\n",
    "make_dir_helper(train_dir)\n",
    "make_dir_helper(validation_dir)\n",
    "make_dir_helper(test_dir)\n",
    "make_dir_helper(model_dir)\n",
    "\n",
    "# Make positive class sub directories\n",
    "make_dir_helper(train_pos_dir)\n",
    "make_dir_helper(validation_pos_dir)\n",
    "make_dir_helper(test_pos_dir)\n",
    "\n",
    "# Make negative class sub directories\n",
    "make_dir_helper(train_neg_dir)\n",
    "make_dir_helper(validation_neg_dir)\n",
    "make_dir_helper(test_neg_dir)"
   ]
  },
  {
   "cell_type": "code",
   "execution_count": null,
   "metadata": {},
   "outputs": [],
   "source": [
    "positive_dataset_dir"
   ]
  },
  {
   "cell_type": "code",
   "execution_count": null,
   "metadata": {
    "collapsed": true,
    "scrolled": true
   },
   "outputs": [],
   "source": [
    "fnames = [f for f in listdir(positive_dataset_dir) if isfile(join(positive_dataset_dir, f))]\n",
    "shuffle(fnames)\n",
    "\n",
    "for idx, fname in enumerate(fnames):\n",
    "    \n",
    "    src_dir = os.path.join(positive_dataset_dir, fname)\n",
    "    if idx < 70:\n",
    "        dst_dir = os.path.join(train_pos_dir, fname)\n",
    "        shutil.copyfile(src_dir, dst_dir)\n",
    "    elif 70 <= idx < 100:\n",
    "        dst_dir = os.path.join(validation_pos_dir, fname)\n",
    "        shutil.copyfile(src_dir, dst_dir)\n",
    "        dst_dir = os.path.join(test_pos_dir, fname)\n",
    "        shutil.copyfile(src_dir, dst_dir)"
   ]
  },
  {
   "cell_type": "code",
   "execution_count": null,
   "metadata": {
    "collapsed": true
   },
   "outputs": [],
   "source": [
    "fnames = [f for f in os.listdir(negative_dataset_dir) if isfile(join(negative_dataset_dir, f))]\n",
    "shuffle(fnames)\n",
    "  \n",
    "for idx, fname in enumerate(fnames):\n",
    "    \n",
    "    src_dir = os.path.join(negative_dataset_dir, fname)\n",
    "    if idx < 70:\n",
    "        dst_dir = os.path.join(train_neg_dir, fname)\n",
    "        shutil.copyfile(src_dir, dst_dir)\n",
    "    elif 70 <= idx < 100:\n",
    "        dst_dir = os.path.join(validation_neg_dir, fname)\n",
    "        shutil.copyfile(src_dir, dst_dir)\n",
    "        dst_dir = os.path.join(test_neg_dir, fname)\n",
    "        shutil.copyfile(src_dir, dst_dir)"
   ]
  },
  {
   "cell_type": "code",
   "execution_count": null,
   "metadata": {},
   "outputs": [],
   "source": [
    "is_model_from_file = False\n",
    "model_file = Path(model_file_path)\n",
    "model = None\n",
    "if model_file.is_file():\n",
    "    print('found model!')\n",
    "    model = load_model(model_file_path)\n",
    "    is_model_from_file = True\n",
    "else:\n",
    "    print('No saved model')"
   ]
  },
  {
   "cell_type": "code",
   "execution_count": null,
   "metadata": {},
   "outputs": [],
   "source": [
    "    train_datagen = ImageDataGenerator(rescale=1./255,\n",
    "                                       vertical_flip=True,\n",
    "                                       horizontal_flip=True)  \n",
    "    test_datagen = ImageDataGenerator(rescale=1./255)\n",
    "\n",
    "    train_generator = train_datagen.flow_from_directory(\n",
    "            train_dir,  \n",
    "            target_size=(IMAGE_SIZE, IMAGE_SIZE),  \n",
    "            batch_size=BATCH_SIZE,\n",
    "            class_mode='binary')  \n",
    "\n",
    "    validation_generator = test_datagen.flow_from_directory(\n",
    "            validation_dir,\n",
    "            target_size=(IMAGE_SIZE, IMAGE_SIZE),\n",
    "            batch_size=BATCH_SIZE,\n",
    "            class_mode='binary')"
   ]
  },
  {
   "cell_type": "code",
   "execution_count": null,
   "metadata": {
    "scrolled": true
   },
   "outputs": [],
   "source": [
    "    for idx, (data_batch, labels_batch) in enumerate(train_generator):\n",
    "        print('data batch:', data_batch.shape)\n",
    "        print('labels batch:', labels_batch)\n",
    "\n",
    "        if idx > 3:\n",
    "            break"
   ]
  },
  {
   "cell_type": "code",
   "execution_count": null,
   "metadata": {
    "collapsed": true
   },
   "outputs": [],
   "source": [
    "    model = models.Sequential()\n",
    "    model.add(layers.Conv2D(32, (3, 3), activation='relu', padding='same', input_shape=(IMAGE_SIZE, IMAGE_SIZE, 3)))\n",
    "    model.add(layers.MaxPooling2D((2, 2)))\n",
    "    \n",
    "    model.add(layers.Conv2D(64, (3, 3), padding='same', activation='relu'))\n",
    "    model.add(layers.MaxPooling2D((2, 2)))\n",
    "    \n",
    "    model.add(layers.Conv2D(128, (3, 3), padding='same', activation='relu'))\n",
    "    model.add(layers.MaxPooling2D((2, 2)))\n",
    "    \n",
    "    model.add(layers.Flatten())\n",
    "    model.add(layers.Dropout(0.5))\n",
    "    model.add(layers.Dense(32, activation='relu'))\n",
    "    model.add(layers.Dense(1, activation='sigmoid'))"
   ]
  },
  {
   "cell_type": "code",
   "execution_count": null,
   "metadata": {
    "collapsed": true
   },
   "outputs": [],
   "source": [
    "model.compile(loss='binary_crossentropy',\n",
    "            optimizer=optimizers.RMSprop(lr=1e-4),\n",
    "             metrics=['acc'])"
   ]
  },
  {
   "cell_type": "code",
   "execution_count": null,
   "metadata": {},
   "outputs": [],
   "source": [
    "model.summary()"
   ]
  },
  {
   "cell_type": "code",
   "execution_count": null,
   "metadata": {
    "scrolled": true
   },
   "outputs": [],
   "source": [
    "if not is_model_from_file:\n",
    "    history = model.fit_generator(\n",
    "          train_generator,\n",
    "          steps_per_epoch=STEPS_PER_EPOCH,\n",
    "          epochs=EPOCHS,\n",
    "          validation_data=validation_generator,\n",
    "          validation_steps=STEPS_PER_EPOCH)\n",
    "\n",
    "    model.save(model_file_path) \n",
    "\n",
    "    acc = history.history['acc']\n",
    "    val_acc = history.history['val_acc']\n",
    "    loss = history.history['loss']\n",
    "    val_loss = history.history['val_loss']\n",
    "\n",
    "    epochs = range(len(acc))\n",
    "\n",
    "    plt.plot(epochs, acc, 'b+')\n",
    "    plt.plot(epochs, val_acc, 'bo')\n",
    "    plt.title('Training and validation accuracy')\n",
    "\n",
    "    plt.figure()\n",
    "\n",
    "    plt.plot(epochs, loss, 'b+')\n",
    "    plt.plot(epochs, val_loss, 'bo')\n",
    "    plt.title('Training and validation loss')\n",
    "\n",
    "    plt.show()"
   ]
  },
  {
   "cell_type": "code",
   "execution_count": null,
   "metadata": {
    "collapsed": true
   },
   "outputs": [],
   "source": [
    "fnames = []\n",
    "dname = train_pos_dir\n",
    "# dnames = [os.path.join(test_dir, dname) for dname in os.listdir(test_dir)]\n",
    "# for dname in dnames:\n",
    "#     fnames.extend([os.path.join(dname, fname) for fname in os.listdir(dname)])\n",
    "\n",
    "\n",
    "fnames.extend([os.path.join(dname, fname) for fname in os.listdir(dname)])\n",
    "shuffle(fnames)\n"
   ]
  },
  {
   "cell_type": "code",
   "execution_count": null,
   "metadata": {
    "collapsed": true
   },
   "outputs": [],
   "source": [
    "for "
   ]
  },
  {
   "cell_type": "code",
   "execution_count": null,
   "metadata": {},
   "outputs": [],
   "source": [
    "img_path = fnames[randint(0, len(fnames))]\n",
    "\n",
    "img = image.load_img(img_path, target_size=(IMAGE_SIZE, IMAGE_SIZE))\n",
    "imgplot = plt.imshow(img)\n",
    "plt.show()\n",
    "\n",
    "x = image.img_to_array(img)\n",
    "x = x.reshape((1,) + x.shape)\n",
    "prediction = model.predict(x)\n",
    "print(prediction)\n",
    "\n",
    "if prediction[0][0] == 0:\n",
    "    print(POSITIVE_CLASS)\n",
    "else:\n",
    "    print(NEGATIVE_CLASS)"
   ]
  },
  {
   "cell_type": "code",
   "execution_count": null,
   "metadata": {
    "collapsed": true
   },
   "outputs": [],
   "source": []
  }
 ],
 "metadata": {
  "kernelspec": {
   "display_name": "Python 3",
   "language": "python",
   "name": "python3"
  },
  "language_info": {
   "codemirror_mode": {
    "name": "ipython",
    "version": 3
   },
   "file_extension": ".py",
   "mimetype": "text/x-python",
   "name": "python",
   "nbconvert_exporter": "python",
   "pygments_lexer": "ipython3",
   "version": "3.6.1"
  }
 },
 "nbformat": 4,
 "nbformat_minor": 2
}
