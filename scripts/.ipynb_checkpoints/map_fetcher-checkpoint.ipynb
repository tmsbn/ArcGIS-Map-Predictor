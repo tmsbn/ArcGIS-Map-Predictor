{
 "cells": [
  {
   "cell_type": "code",
   "execution_count": 45,
   "metadata": {},
   "outputs": [],
   "source": [
    "from urllib.request import urlretrieve\n",
    "from urllib.parse import urlencode\n",
    "import image_slicer\n",
    "import traceback\n",
    "from os import listdir, remove, mkdir\n",
    "from os.path import join, exists\n",
    "from shutil import rmtree\n",
    "from PIL import Image"
   ]
  },
  {
   "cell_type": "code",
   "execution_count": 46,
   "metadata": {
    "collapsed": true
   },
   "outputs": [],
   "source": [
    "def remove_files(dir_path):\n",
    "    for file_name in listdir(dir_path):\n",
    "        if file_name.endswith('.jpg'):\n",
    "            remove(join(dir_path, file_name))\n",
    "    return False"
   ]
  },
  {
   "cell_type": "code",
   "execution_count": 47,
   "metadata": {
    "collapsed": true
   },
   "outputs": [],
   "source": [
    "def make_dir_helper(dir_path):\n",
    "    if not exists(dir_path):\n",
    "        mkdir(dir_path)\n",
    "        return True\n",
    "    return False"
   ]
  },
  {
   "cell_type": "code",
   "execution_count": 48,
   "metadata": {
    "collapsed": true
   },
   "outputs": [],
   "source": [
    "def crop(map_file_path, sliced_dir, height, width):\n",
    "    with Image.open(map_file_path) as im:\n",
    "        imgwidth, imgheight = im.size\n",
    "        idx = 0\n",
    "        for i in range(0,imgheight - height , height): # Don't include borders\n",
    "            for j in range(0,imgwidth - width , width):\n",
    "                box = (j, i, j+width, i+height)\n",
    "                try:\n",
    "                    a = im.crop(box)\n",
    "                    a.save(join(sliced_dir, 'image_{}.jpg'.format(idx)), \"JPEG\", quality=100, optimize=True)\n",
    "                except:\n",
    "                    traceback.print_exc()\n",
    "                    pass\n",
    "                idx +=1"
   ]
  },
  {
   "cell_type": "code",
   "execution_count": 49,
   "metadata": {},
   "outputs": [
    {
     "ename": "NameError",
     "evalue": "name 'input_file_path' is not defined",
     "output_type": "error",
     "traceback": [
      "\u001b[1;31m---------------------------------------------------------------------------\u001b[0m",
      "\u001b[1;31mNameError\u001b[0m                                 Traceback (most recent call last)",
      "\u001b[1;32m<ipython-input-49-8af375ed6ee8>\u001b[0m in \u001b[0;36m<module>\u001b[1;34m()\u001b[0m\n\u001b[0;32m     30\u001b[0m \u001b[0mtile_size\u001b[0m \u001b[1;33m=\u001b[0m \u001b[1;36m200\u001b[0m\u001b[1;33m\u001b[0m\u001b[0m\n\u001b[0;32m     31\u001b[0m \u001b[0mremove_files\u001b[0m\u001b[1;33m(\u001b[0m\u001b[0mSLICED_DIR\u001b[0m\u001b[1;33m)\u001b[0m\u001b[1;33m\u001b[0m\u001b[0m\n\u001b[1;32m---> 32\u001b[1;33m \u001b[0mcrop\u001b[0m\u001b[1;33m(\u001b[0m\u001b[0mMAP_FILE_PATH\u001b[0m\u001b[1;33m,\u001b[0m \u001b[0mSLICED_DIR\u001b[0m\u001b[1;33m,\u001b[0m \u001b[0mtile_size\u001b[0m\u001b[1;33m,\u001b[0m \u001b[0mtile_size\u001b[0m\u001b[1;33m)\u001b[0m\u001b[1;33m\u001b[0m\u001b[0m\n\u001b[0m",
      "\u001b[1;32m<ipython-input-48-2caee8f8d508>\u001b[0m in \u001b[0;36mcrop\u001b[1;34m(map_file_path, sliced_dir, height, width)\u001b[0m\n\u001b[0;32m      1\u001b[0m \u001b[1;32mdef\u001b[0m \u001b[0mcrop\u001b[0m\u001b[1;33m(\u001b[0m\u001b[0mmap_file_path\u001b[0m\u001b[1;33m,\u001b[0m \u001b[0msliced_dir\u001b[0m\u001b[1;33m,\u001b[0m \u001b[0mheight\u001b[0m\u001b[1;33m,\u001b[0m \u001b[0mwidth\u001b[0m\u001b[1;33m)\u001b[0m\u001b[1;33m:\u001b[0m\u001b[1;33m\u001b[0m\u001b[0m\n\u001b[1;32m----> 2\u001b[1;33m     \u001b[1;32mwith\u001b[0m \u001b[0mImage\u001b[0m\u001b[1;33m.\u001b[0m\u001b[0mopen\u001b[0m\u001b[1;33m(\u001b[0m\u001b[0minput_file_path\u001b[0m\u001b[1;33m)\u001b[0m \u001b[1;32mas\u001b[0m \u001b[0mim\u001b[0m\u001b[1;33m:\u001b[0m\u001b[1;33m\u001b[0m\u001b[0m\n\u001b[0m\u001b[0;32m      3\u001b[0m         \u001b[0mimgwidth\u001b[0m\u001b[1;33m,\u001b[0m \u001b[0mimgheight\u001b[0m \u001b[1;33m=\u001b[0m \u001b[0mim\u001b[0m\u001b[1;33m.\u001b[0m\u001b[0msize\u001b[0m\u001b[1;33m\u001b[0m\u001b[0m\n\u001b[0;32m      4\u001b[0m         \u001b[0midx\u001b[0m \u001b[1;33m=\u001b[0m \u001b[1;36m0\u001b[0m\u001b[1;33m\u001b[0m\u001b[0m\n\u001b[0;32m      5\u001b[0m         \u001b[1;32mfor\u001b[0m \u001b[0mi\u001b[0m \u001b[1;32min\u001b[0m \u001b[0mrange\u001b[0m\u001b[1;33m(\u001b[0m\u001b[1;36m0\u001b[0m\u001b[1;33m,\u001b[0m\u001b[0mimgheight\u001b[0m \u001b[1;33m-\u001b[0m \u001b[0mheight\u001b[0m \u001b[1;33m,\u001b[0m \u001b[0mheight\u001b[0m\u001b[1;33m)\u001b[0m\u001b[1;33m:\u001b[0m \u001b[1;31m# Don't include borders\u001b[0m\u001b[1;33m\u001b[0m\u001b[0m\n",
      "\u001b[1;31mNameError\u001b[0m: name 'input_file_path' is not defined"
     ]
    }
   ],
   "source": [
    "URL = 'http://services.arcgisonline.com/arcgis/rest/services/World_Imagery/MapServer/export?'\n",
    "x_min = -117.261067\n",
    "y_min = 33.052972\n",
    "x_max = -117.256993\n",
    "y_max = 33.054659\n",
    "spatial_ref = 4326\n",
    "width = 1000\n",
    "height = 1000\n",
    "\n",
    "parameters = {\n",
    "    'bbox':'{},{},{},{}'.format(x_min, y_min, x_max, y_max),\n",
    "    'bboxSR':spatial_ref,\n",
    "    'size':'{},{}'.format(width, height),\n",
    "    'format':'jpg',\n",
    "    'f':'image'\n",
    "}\n",
    "\n",
    "URL += urlencode(parameters)\n",
    "\n",
    "MAP_NAME = 'map.jpg'\n",
    "MAP_DIR = 'maps'\n",
    "SLICED_DIR = 'sliced'\n",
    "make_dir_helper(MAP_DIR)\n",
    "make_dir_helper(SLICED_DIR)\n",
    "\n",
    "MAP_FILE_PATH = join(MAP_DIR, MAP_NAME)\n",
    "\n",
    "urlretrieve(URL, MAP_FILE_PATH)\n",
    "\n",
    "tile_size = 200\n",
    "remove_files(SLICED_DIR)\n",
    "crop(MAP_FILE_PATH, SLICED_DIR, tile_size, tile_size)"
   ]
  }
 ],
 "metadata": {
  "kernelspec": {
   "display_name": "Python 3",
   "language": "python",
   "name": "python3"
  },
  "language_info": {
   "codemirror_mode": {
    "name": "ipython",
    "version": 3
   },
   "file_extension": ".py",
   "mimetype": "text/x-python",
   "name": "python",
   "nbconvert_exporter": "python",
   "pygments_lexer": "ipython3",
   "version": "3.6.1"
  }
 },
 "nbformat": 4,
 "nbformat_minor": 2
}
