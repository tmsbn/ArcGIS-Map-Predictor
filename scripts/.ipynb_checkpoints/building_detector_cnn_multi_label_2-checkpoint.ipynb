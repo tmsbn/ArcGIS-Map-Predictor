{
 "cells": [
  {
   "cell_type": "code",
   "execution_count": 15,
   "metadata": {},
   "outputs": [],
   "source": [
    "from keras.models import Sequential\n",
    "from keras.layers import Dense, Dropout, Flatten\n",
    "from keras.layers.convolutional import Conv2D, MaxPooling2D, ZeroPadding2D\n",
    "from keras.datasets import mnist\n",
    "from keras.utils import to_categorical\n",
    "from keras.preprocessing.image import ImageDataGenerator\n",
    "from keras.preprocessing import image\n",
    "from keras import optimizers, regularizers, models, layers\n",
    "from keras.callbacks import EarlyStopping, ModelCheckpoint\n",
    "from random import shuffle, randint\n",
    "import numpy as np\n",
    "import future\n",
    "from keras.applications import VGG16\n",
    "from PIL import Image\n",
    "\n",
    "import matplotlib.pyplot as plt\n",
    "\n",
    "from os import listdir, mkdir\n",
    "from os.path import join, isfile, isdir, exists, expanduser\n",
    "from shutil import rmtree, copyfile\n",
    "import file_utils\n",
    "from file_utils import make_dir_helper, delete_dir_helper, is_jpeg\n",
    "from keras.models import load_model, model_from_json"
   ]
  },
  {
   "cell_type": "code",
   "execution_count": 9,
   "metadata": {
    "collapsed": true
   },
   "outputs": [],
   "source": [
    "def compile_model(model):\n",
    "    model.compile(loss='categorical_crossentropy',\n",
    "            optimizer=optimizers.RMSprop(lr=1e-4),\n",
    "             metrics=['acc'])\n",
    "    model.summary()"
   ]
  },
  {
   "cell_type": "code",
   "execution_count": 10,
   "metadata": {
    "collapsed": true
   },
   "outputs": [],
   "source": [
    "def get_class_names(base_dir):\n",
    "    return [dname for dname in listdir(base_dir) if isdir(join(base_dir, dname))]"
   ]
  },
  {
   "cell_type": "code",
   "execution_count": 16,
   "metadata": {},
   "outputs": [
    {
     "name": "stdout",
     "output_type": "stream",
     "text": [
      "['agricultural', 'airplane', 'buildings', 'chaparral', 'denseresidential', 'forest', 'freeway', 'harbor', 'overpass', 'parkinglot', 'river', 'storagetanks']\n"
     ]
    },
    {
     "ename": "NameError",
     "evalue": "name 'shutil' is not defined",
     "output_type": "error",
     "traceback": [
      "\u001b[1;31m---------------------------------------------------------------------------\u001b[0m",
      "\u001b[1;31mNameError\u001b[0m                                 Traceback (most recent call last)",
      "\u001b[1;32m<ipython-input-16-dcef31aa596a>\u001b[0m in \u001b[0;36m<module>\u001b[1;34m()\u001b[0m\n\u001b[0;32m     57\u001b[0m         \u001b[1;32mif\u001b[0m \u001b[0midx\u001b[0m \u001b[1;33m<\u001b[0m \u001b[1;36m70\u001b[0m\u001b[1;33m:\u001b[0m\u001b[1;33m\u001b[0m\u001b[0m\n\u001b[0;32m     58\u001b[0m             \u001b[0mdst_dir\u001b[0m \u001b[1;33m=\u001b[0m \u001b[0mjoin\u001b[0m\u001b[1;33m(\u001b[0m\u001b[0mtrain_class_dir\u001b[0m\u001b[1;33m,\u001b[0m \u001b[0mfname\u001b[0m\u001b[1;33m)\u001b[0m\u001b[1;33m\u001b[0m\u001b[0m\n\u001b[1;32m---> 59\u001b[1;33m             \u001b[0mshutil\u001b[0m\u001b[1;33m.\u001b[0m\u001b[0mcopyfile\u001b[0m\u001b[1;33m(\u001b[0m\u001b[0msrc_dir\u001b[0m\u001b[1;33m,\u001b[0m \u001b[0mdst_dir\u001b[0m\u001b[1;33m)\u001b[0m\u001b[1;33m\u001b[0m\u001b[0m\n\u001b[0m\u001b[0;32m     60\u001b[0m         \u001b[1;32melif\u001b[0m \u001b[1;36m70\u001b[0m \u001b[1;33m<=\u001b[0m \u001b[0midx\u001b[0m \u001b[1;33m<\u001b[0m \u001b[1;36m100\u001b[0m\u001b[1;33m:\u001b[0m\u001b[1;33m\u001b[0m\u001b[0m\n\u001b[0;32m     61\u001b[0m             \u001b[0mdst_dir\u001b[0m \u001b[1;33m=\u001b[0m \u001b[0mjoin\u001b[0m\u001b[1;33m(\u001b[0m\u001b[0mvalidation_class_dir\u001b[0m\u001b[1;33m,\u001b[0m \u001b[0mfname\u001b[0m\u001b[1;33m)\u001b[0m\u001b[1;33m\u001b[0m\u001b[0m\n",
      "\u001b[1;31mNameError\u001b[0m: name 'shutil' is not defined"
     ]
    }
   ],
   "source": [
    "#project_dir_name = join('Esri Project')\n",
    "project_dir_name = join('desktop','Esri Project')\n",
    "original_dataset_dir = join(expanduser('~'), project_dir_name, 'original data 2');\n",
    "base_dir =  join(expanduser('~'), project_dir_name, 'data');\n",
    "base_scripts_dir =  join(expanduser('~'), project_dir_name, 'scripts');\n",
    "model_dir =  join(expanduser('~'),  project_dir_name, 'models');\n",
    "\n",
    "MODEL_FILE_NAME = 'map_multi_model_6.h5'\n",
    "\n",
    "CLASSES_TO_CLASSIFY = get_class_names(original_dataset_dir)\n",
    "print(CLASSES_TO_CLASSIFY)\n",
    "NO_OF_CLASSES = len(CLASSES_TO_CLASSIFY)\n",
    "\n",
    "ext = '.jpg'\n",
    "IMAGE_SIZE = 150\n",
    "EPOCHS = 30\n",
    "NO_TRAINING_SAMPLES = 70\n",
    "BATCH_SIZE = 15\n",
    "STEPS_PER_EPOCH = 5\n",
    "\n",
    "train_dir = join(base_dir, 'train')\n",
    "validation_dir = join(base_dir, 'validation')\n",
    "test_dir = join(base_dir, 'test')\n",
    "model_file_path = join(model_dir, MODEL_FILE_NAME)\n",
    "\n",
    "# Delete the previous data folder and all its contents\n",
    "delete_dir_helper(base_dir)\n",
    "\n",
    "make_dir_helper(base_dir)\n",
    "make_dir_helper(model_dir)\n",
    "\n",
    "# Make base directories\n",
    "make_dir_helper(train_dir)\n",
    "make_dir_helper(validation_dir)\n",
    "make_dir_helper(test_dir)\n",
    "\n",
    "for classes in CLASSES_TO_CLASSIFY:\n",
    "    \n",
    "    train_class_dir = join(train_dir, classes)\n",
    "    validation_class_dir = join(validation_dir, classes)\n",
    "    test_class_dir = join(test_dir, classes)\n",
    "    \n",
    "    # Make train sub directories\n",
    "    make_dir_helper(train_class_dir)\n",
    "    make_dir_helper(validation_class_dir)\n",
    "    make_dir_helper(test_class_dir)\n",
    "    \n",
    "    \n",
    "    original_dataset_class_dir = join(original_dataset_dir, classes)\n",
    "    fnames = [fname for fname in listdir(original_dataset_class_dir) if isfile(join(original_dataset_class_dir,fname)) and is_jpeg(fname)]\n",
    "    \n",
    "    shuffle(fnames)\n",
    "    \n",
    "    for idx, fname in enumerate(fnames):\n",
    "        \n",
    "        src_dir = join(original_dataset_class_dir, fname)\n",
    "        if idx < 70:\n",
    "            dst_dir = join(train_class_dir, fname)\n",
    "            shutil.copyfile(src_dir, dst_dir)\n",
    "        elif 70 <= idx < 100:\n",
    "            dst_dir = join(validation_class_dir, fname)\n",
    "            shutil.copyfile(src_dir, dst_dir)\n",
    "            \n",
    "            dst_dir = join(test_class_dir, fname)\n",
    "            shutil.copyfile(src_dir, dst_dir)"
   ]
  },
  {
   "cell_type": "code",
   "execution_count": null,
   "metadata": {},
   "outputs": [],
   "source": [
    "is_model_from_file = False\n",
    "model = None\n",
    "if exists(model_file_path):\n",
    "    print('Found saved model with name ' + MODEL_FILE_NAME)\n",
    "    model = load_model(model_file_path)\n",
    "    compile_model(model)\n",
    "else:\n",
    "    print('NO saved model with name ' + MODEL_FILE_NAME)"
   ]
  },
  {
   "cell_type": "code",
   "execution_count": null,
   "metadata": {},
   "outputs": [],
   "source": [
    "    train_datagen = ImageDataGenerator(rescale=1./255,\n",
    "                                       vertical_flip=True,\n",
    "                                       shear_range=0.2,\n",
    "                                       zoom_range=0.2,\n",
    "                                       rotation_range=40,\n",
    "                                       width_shift_range=0.2,\n",
    "                                       height_shift_range=0.2,\n",
    "                                       horizontal_flip=True)  \n",
    "    test_datagen = ImageDataGenerator(rescale=1./255)\n",
    "\n",
    "    train_generator = train_datagen.flow_from_directory(\n",
    "            train_dir,  \n",
    "            target_size=(IMAGE_SIZE, IMAGE_SIZE),  \n",
    "            batch_size=BATCH_SIZE,\n",
    "            class_mode='categorical')  \n",
    "\n",
    "    validation_generator = test_datagen.flow_from_directory(\n",
    "            validation_dir,\n",
    "            target_size=(IMAGE_SIZE, IMAGE_SIZE),\n",
    "            batch_size=BATCH_SIZE,\n",
    "            class_mode='categorical')"
   ]
  },
  {
   "cell_type": "code",
   "execution_count": null,
   "metadata": {
    "scrolled": true
   },
   "outputs": [],
   "source": [
    "    for idx, (data_batch, labels_batch) in enumerate(train_generator):\n",
    "        print('data batch:', data_batch.shape)\n",
    "        print('labels batch:', labels_batch.shape)\n",
    "        break"
   ]
  },
  {
   "cell_type": "code",
   "execution_count": null,
   "metadata": {
    "collapsed": true
   },
   "outputs": [],
   "source": [
    "#     model = models.Sequential()\n",
    "#     model.add(layers.Conv2D(32, (3, 3), activation='relu', padding='same', input_shape=(IMAGE_SIZE, IMAGE_SIZE, 3)))\n",
    "#     model.add(layers.MaxPooling2D((2, 2)))\n",
    "#     model.add(layers.Conv2D(64, (3, 3), padding='same', activation='relu'))\n",
    "#     model.add(layers.MaxPooling2D((2, 2)))\n",
    "#     model.add(layers.Conv2D(128, (3, 3), padding='same', activation='relu'))\n",
    "#     model.add(layers.MaxPooling2D((2, 2)))\n",
    "#     model.add(layers.Conv2D(256, (3, 3), padding='same', activation='relu'))\n",
    "#     model.add(layers.MaxPooling2D((2, 2)))\n",
    "#     model.add(conv_base)\n",
    "#     model.add(layers.Flatten())\n",
    "#     model.add(layers.Dropout(0.5))\n",
    "#     model.add(layers.Dense(64, activation='relu'))\n",
    "#     model.add(layers.Dense(6, activation='softmax'))"
   ]
  },
  {
   "cell_type": "code",
   "execution_count": null,
   "metadata": {
    "collapsed": true
   },
   "outputs": [],
   "source": [
    "    model = models.Sequential()\n",
    "    conv_base = VGG16(weights='imagenet' ,include_top=False, input_shape=(IMAGE_SIZE, IMAGE_SIZE, 3))\n",
    "    conv_base.trainable = False\n",
    "    model.add(conv_base)\n",
    "    model.add(layers.Flatten())\n",
    "    model.add(layers.Dense(256, activation='relu', kernel_regularizer=regularizers.l2(0.001)))\n",
    "    model.add(layers.Dropout(0.3))\n",
    "    model.add(layers.Dense(NO_OF_CLASSES, activation='softmax'))"
   ]
  },
  {
   "cell_type": "code",
   "execution_count": null,
   "metadata": {},
   "outputs": [],
   "source": [
    "    compile_model(model)"
   ]
  },
  {
   "cell_type": "code",
   "execution_count": null,
   "metadata": {
    "scrolled": true
   },
   "outputs": [],
   "source": [
    "    callbacks = [\n",
    "        EarlyStopping(monitor='acc', patience=3, mode='auto'),\n",
    "        ModelCheckpoint(monitor='val_loss', save_best_only=True, filepath=model_file_path)\n",
    "    ]\n",
    "    \n",
    "    history = model.fit_generator(\n",
    "        train_generator,\n",
    "        steps_per_epoch=10,\n",
    "        epochs=EPOCHS,\n",
    "        validation_data=validation_generator,\n",
    "        callbacks = callbacks,\n",
    "        validation_steps=10)\n",
    "\n",
    "    acc = history.history['acc']\n",
    "    val_acc = history.history['val_acc']\n",
    "    loss = history.history['loss']\n",
    "    val_loss = history.history['val_loss']\n",
    "\n",
    "    epochs = range(len(acc))\n",
    "\n",
    "    plt.plot(epochs, acc, 'b+')\n",
    "    plt.plot(epochs, val_acc, 'bo')\n",
    "    plt.title('Training and validation accuracy')\n",
    "\n",
    "    plt.figure()\n",
    "\n",
    "    plt.plot(epochs, loss, 'b+')\n",
    "    plt.plot(epochs, val_loss, 'bo')\n",
    "    plt.title('Training and validation loss')\n",
    "\n",
    "    plt.show()"
   ]
  },
  {
   "cell_type": "code",
   "execution_count": null,
   "metadata": {},
   "outputs": [],
   "source": [
    "fnames = []\n",
    "target_dir = test_dir\n",
    "# dnames = [os.path.join(target_dir, dname) for dname in os.listdir(target_dir)]\n",
    "dnames = [os.path.join(target_dir, dname) for dname in os.listdir(target_dir)]\n",
    "\n",
    "for dname in dnames:\n",
    "    \n",
    "    fnames =([os.path.join(dname, fname) for fname in os.listdir(dname)])\n",
    "    \n",
    "    cur_class = dname.split('\\\\')[-1]\n",
    "    print(cur_class, end=':- ')\n",
    "\n",
    "    NO_OF_FIG = 15\n",
    "    correct_predict_count = 0\n",
    "    high_accuracy_count = 0\n",
    "    \n",
    "    max_indices = []\n",
    "    \n",
    "    for index, img_path in enumerate(fnames):\n",
    "          \n",
    "        img = image.load_img(img_path, target_size=(IMAGE_SIZE, IMAGE_SIZE)) \n",
    "        \n",
    "        x = image.img_to_array(img)\n",
    "        x = x.reshape((1,) + x.shape)\n",
    "        prediction = model.predict(x)[0]\n",
    "        \n",
    "        # print(prediction)\n",
    "        # prediction = [round(x, 2) for x in prediction]\n",
    "        \n",
    "        # img.thumbnail((50,50), Image.ANTIALIAS)\n",
    "        # imgplot = plt.imshow(img)\n",
    "        \n",
    "        max_val = np.amax(prediction)\n",
    "        max_index = np.argmax(prediction)\n",
    "        # max_indices.append('idx:' + str(max_index) + 'val:' + str(max_val))\n",
    "        \n",
    "        pred_class = CLASSES_TO_CLASSIFY[max_index]\n",
    "        \n",
    "        if pred_class == cur_class:         \n",
    "            correct_predict_count +=1\n",
    "            \n",
    "        if max_val > 0.8:\n",
    "            high_accuracy_count += 1\n",
    "          \n",
    "#       title += str(prediction)\n",
    "#       plt.axis('off')\n",
    "#       plt.title(title)\n",
    "    \n",
    "    # print(max_indices)\n",
    "    # plt.show()\n",
    "    print('Accuracy: ' + str(correct_predict / len(fnames) * 100) + ' , High count: ' + str(high_accuracy_count))\n",
    "    "
   ]
  }
 ],
 "metadata": {
  "kernelspec": {
   "display_name": "Python 3",
   "language": "python",
   "name": "python3"
  },
  "language_info": {
   "codemirror_mode": {
    "name": "ipython",
    "version": 3
   },
   "file_extension": ".py",
   "mimetype": "text/x-python",
   "name": "python",
   "nbconvert_exporter": "python",
   "pygments_lexer": "ipython3",
   "version": "3.6.1"
  }
 },
 "nbformat": 4,
 "nbformat_minor": 2
}
