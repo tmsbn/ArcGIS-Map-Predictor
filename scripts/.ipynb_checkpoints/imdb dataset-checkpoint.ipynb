{
 "cells": [
  {
   "cell_type": "code",
   "execution_count": 55,
   "metadata": {},
   "outputs": [],
   "source": [
    "from keras.datasets import imdb\n",
    "from keras.models import Sequential\n",
    "from keras.layers import Dense\n",
    "import matplotlib.pyplot as plt\n",
    "import numpy as np"
   ]
  },
  {
   "cell_type": "markdown",
   "metadata": {},
   "source": [
    "Load the dataset"
   ]
  },
  {
   "cell_type": "code",
   "execution_count": 50,
   "metadata": {},
   "outputs": [],
   "source": [
    "num_word = 10000\n",
    "(train_data, train_label), (test_data, test_label) = imdb.load_data(num_words=num_word)"
   ]
  },
  {
   "cell_type": "code",
   "execution_count": 51,
   "metadata": {},
   "outputs": [],
   "source": [
    "def vectorize_sequences(sequences):\n",
    "    \n",
    "    arr = np.zeros((len(sequences), num_word))\n",
    "    for idx, sequence in enumerate(sequences):\n",
    "        arr[idx, sequence] = 1\n",
    "    return arr"
   ]
  },
  {
   "cell_type": "code",
   "execution_count": 52,
   "metadata": {},
   "outputs": [],
   "source": [
    "x_train = vectorize_sequences(train_data)\n",
    "x_test = vectorize_sequences(test_data)\n",
    "\n",
    "y_train = np.asarray(train_label).astype('float32')\n",
    "y_test = np.asarray(test_label).astype('float32')"
   ]
  },
  {
   "cell_type": "code",
   "execution_count": 53,
   "metadata": {},
   "outputs": [],
   "source": [
    "def build_model():\n",
    "    model = Sequential()\n",
    "    model.add(Dense(16, activation='relu', input_shape=(num_word,)))\n",
    "    model.add(Dense(16, activation='relu'))\n",
    "    model.add(Dense(1, activation='sigmoid'))\n",
    "    return model"
   ]
  },
  {
   "cell_type": "code",
   "execution_count": 76,
   "metadata": {},
   "outputs": [
    {
     "name": "stdout",
     "output_type": "stream",
     "text": [
      "Train on 17500 samples, validate on 7500 samples\n",
      "Epoch 1/10\n",
      "17500/17500 [==============================] - 5s - loss: 0.3511 - acc: 0.8564 - val_loss: 0.2789 - val_acc: 0.8931\n",
      "Epoch 2/10\n",
      "17500/17500 [==============================] - 5s - loss: 0.2107 - acc: 0.9189 - val_loss: 0.2817 - val_acc: 0.8925\n",
      "Epoch 3/10\n",
      "17500/17500 [==============================] - 5s - loss: 0.1691 - acc: 0.9369 - val_loss: 0.3098 - val_acc: 0.8843\n",
      "Epoch 4/10\n",
      "17500/17500 [==============================] - 5s - loss: 0.1416 - acc: 0.9485 - val_loss: 0.3304 - val_acc: 0.8863\n",
      "Epoch 5/10\n",
      "17500/17500 [==============================] - 5s - loss: 0.1231 - acc: 0.9559 - val_loss: 0.3609 - val_acc: 0.8836\n",
      "Epoch 6/10\n",
      "17500/17500 [==============================] - 5s - loss: 0.1057 - acc: 0.9636 - val_loss: 0.4004 - val_acc: 0.8805\n",
      "Epoch 7/10\n",
      "17500/17500 [==============================] - 5s - loss: 0.0904 - acc: 0.9678 - val_loss: 0.4568 - val_acc: 0.8764\n",
      "Epoch 8/10\n",
      "17500/17500 [==============================] - 5s - loss: 0.0766 - acc: 0.9737 - val_loss: 0.4875 - val_acc: 0.8759\n",
      "Epoch 9/10\n",
      "17500/17500 [==============================] - 5s - loss: 0.0650 - acc: 0.9793 - val_loss: 0.5274 - val_acc: 0.8743\n",
      "Epoch 10/10\n",
      "17500/17500 [==============================] - 5s - loss: 0.0552 - acc: 0.9818 - val_loss: 0.5718 - val_acc: 0.8743\n"
     ]
    }
   ],
   "source": [
    "model = build_model()\n",
    "model.compile(optimizer='RMSprop', \n",
    "              loss='binary_crossentropy',\n",
    "              metrics=['accuracy'])\n",
    "history = model.fit(x_train, y_train, epochs=10, validation_split=0.3)"
   ]
  },
  {
   "cell_type": "code",
   "execution_count": 77,
   "metadata": {},
   "outputs": [
    {
     "name": "stdout",
     "output_type": "stream",
     "text": [
      "dict_keys(['val_loss', 'val_acc', 'loss', 'acc'])\n"
     ]
    },
    {
     "data": {
      "image/png": "[encoded data removed]",
      "text/plain": [
       "<matplotlib.figure.Figure at 0x19295dbe400>"
      ]
     },
     "metadata": {},
     "output_type": "display_data"
    }
   ],
   "source": [
    "history_dict = history.history\n",
    "print(history_dict.keys())\n",
    "\n",
    "loss_values = history_dict['loss']\n",
    "val_loss_values = history_dict['val_loss']\n",
    "\n",
    "epochs = range(1, len(loss_values) + 1)\n",
    "\n",
    "plt.plot(epochs, loss_values, 'bo')\n",
    "plt.plot(epochs, val_loss_values, 'b+')\n",
    "\n",
    "plt.xlabel('Epochs')\n",
    "plt.ylabel('Loss')\n",
    "\n",
    "plt.show()"
   ]
  },
  {
   "cell_type": "code",
   "execution_count": null,
   "metadata": {
    "collapsed": true
   },
   "outputs": [],
   "source": []
  }
 ],
 "metadata": {
  "kernelspec": {
   "display_name": "Python 3",
   "language": "python",
   "name": "python3"
  },
  "language_info": {
   "codemirror_mode": {
    "name": "ipython",
    "version": 3
   },
   "file_extension": ".py",
   "mimetype": "text/x-python",
   "name": "python",
   "nbconvert_exporter": "python",
   "pygments_lexer": "ipython3",
   "version": "3.6.1"
  }
 },
 "nbformat": 4,
 "nbformat_minor": 2
}
