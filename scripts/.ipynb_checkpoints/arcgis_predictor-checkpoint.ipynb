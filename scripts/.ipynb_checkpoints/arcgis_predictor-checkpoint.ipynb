{
 "cells": [
  {
   "cell_type": "markdown",
   "metadata": {},
   "source": [
    "### Imports"
   ]
  },
  {
   "cell_type": "code",
   "execution_count": 178,
   "metadata": {},
   "outputs": [],
   "source": [
    "from arcgis.gis import GIS\n",
    "from ipywidgets import Layout\n",
    "from PIL import Image\n",
    "from keras.preprocessing import image\n",
    "import requests\n",
    "from io import BytesIO\n",
    "from urllib.parse import urlencode\n",
    "from os import listdir, remove, mkdir\n",
    "from os.path import join, exists, expanduser, isdir\n",
    "from urllib.request import urlretrieve\n",
    "import matplotlib.pyplot as plt\n",
    "from file_utils import make_dir_helper, is_jpeg, delete_dir_helper"
   ]
  },
  {
   "cell_type": "code",
   "execution_count": 179,
   "metadata": {
    "collapsed": true
   },
   "outputs": [],
   "source": [
    "gis = GIS()"
   ]
  },
  {
   "cell_type": "markdown",
   "metadata": {},
   "source": [
    "### Path Constants"
   ]
  },
  {
   "cell_type": "code",
   "execution_count": 180,
   "metadata": {
    "collapsed": true
   },
   "outputs": [],
   "source": [
    "PROJECT_DIR = join(expanduser('~'),'desktop','Esri Project');\n",
    "MAP_NAME = 'map.jpg'\n",
    "MAP_DIR = join(PROJECT_DIR, 'maps')\n",
    "SLICED_DIR = join(MAP_DIR, 'sliced')\n"
   ]
  },
  {
   "cell_type": "markdown",
   "metadata": {},
   "source": [
    "### Slice Constants"
   ]
  },
  {
   "cell_type": "code",
   "execution_count": 181,
   "metadata": {
    "collapsed": true
   },
   "outputs": [],
   "source": [
    "SLICE_WIDTH, SLICE_HEIGHT = 256, 256\n",
    "MAP_WIDTH, MAP_HEIGHT = 4096, 2048"
   ]
  },
  {
   "cell_type": "code",
   "execution_count": 182,
   "metadata": {},
   "outputs": [
    {
     "data": {
      "application/vnd.jupyter.widget-view+json": {
       "model_id": "784a70c28e2f4cd4bb3f37002b10ec2a"
      }
     },
     "metadata": {},
     "output_type": "display_data"
    }
   ],
   "source": [
    "arc_map = gis.map()\n",
    "arc_map.basemap = 'satellite'\n",
    "arc_map"
   ]
  },
  {
   "cell_type": "markdown",
   "metadata": {},
   "source": [
    "### Download map using the current extent"
   ]
  },
  {
   "cell_type": "code",
   "execution_count": 188,
   "metadata": {},
   "outputs": [
    {
     "name": "stderr",
     "output_type": "stream",
     "text": [
      "IOPub data rate exceeded.\n",
      "The notebook server will temporarily stop sending output\n",
      "to the client in order to avoid crashing it.\n",
      "To change this limit, set the config variable\n",
      "`--NotebookApp.iopub_data_rate_limit`.\n"
     ]
    }
   ],
   "source": [
    "URL = 'http://services.arcgisonline.com/arcgis/rest/services/World_Imagery/MapServer/export?'\n",
    "extent = arc_map.extent\n",
    "\n",
    "parameters = {\n",
    "    'bbox':'{},{},{},{}'.format(extent['xmin'], extent['ymin'], extent['xmax'], extent['ymax']),\n",
    "    'bboxSR':extent['spatialReference']['latestWkid'],\n",
    "    'size':'{},{}'.format(width, height),\n",
    "    'format':'jpg',\n",
    "    'f':'image'\n",
    "}\n",
    "\n",
    "URL += urlencode(parameters)\n",
    "\n",
    "MAP_FILE_PATH = join(MAP_DIR, MAP_NAME)\n",
    "\n",
    "if urlretrieve(URL, MAP_FILE_PATH):\n",
    "    \n",
    "    img = image.load_img(MAP_FILE_PATH, target_size=(MAP_HEIGHT, MAP_WIDTH)) \n",
    "    plt.figure(figsize=(30, 15)) \n",
    "    plt.imshow(img)\n",
    "    plt.axis('off')\n",
    "    plt.show()"
   ]
  },
  {
   "cell_type": "markdown",
   "metadata": {},
   "source": [
    "### Slice map into tiles"
   ]
  },
  {
   "cell_type": "code",
   "execution_count": 149,
   "metadata": {},
   "outputs": [],
   "source": [
    "with Image.open(MAP_FILE_PATH) as im:\n",
    "    imgwidth, imgheight = im.size\n",
    "    WIDTH, HEIGHT = 256, 256\n",
    "    idx = 0\n",
    "    start_idx = 0\n",
    "    for i in range(0, imgheight - SLICE_HEIGHT , SLICE_HEIGHT):\n",
    "        for j in range(0, imgwidth - SLICE_WIDTH , SLICE_WIDTH):\n",
    "            box = (j, i, j + SLICE_WIDTH, i + SLICE_HEIGHT)\n",
    "            try:\n",
    "                a = im.crop(box)\n",
    "                a.save(join(SLICED_DIR, 'image_{}.jpg'.format(start_idx + idx =), \"JPEG\", quality=100, optimize=True)\n",
    "            except:\n",
    "                traceback.print_exc()\n",
    "                pass\n",
    "            idx +=1"
   ]
  },
  {
   "cell_type": "markdown",
   "metadata": {},
   "source": [
    "### Predict slices based on model"
   ]
  },
  {
   "cell_type": "code",
   "execution_count": null,
   "metadata": {
    "collapsed": true
   },
   "outputs": [],
   "source": [
    "image_size = 256\n",
    "\n",
    "model.compile(loss='categorical_crossentropy',optimizer=optimizers.RMSprop(lr=1e-4), metrics=['acc'])\n",
    "model.summary()\n",
    "\n",
    "fnames = [fname for fname in listdir(data_dir) if is_jpeg(fname)]\n",
    "print(fnames)\n",
    "\n",
    "for idx, fname in enumerate(fnames):\n",
    "\n",
    "    img_path = join(data_dir, fname)\n",
    "\n",
    "    img = image.load_img(img_path, target_size=(IMAGE_SIZE, IMAGE_SIZE)) \n",
    "    x = image.img_to_array(img)\n",
    "    x = x.reshape((1,) + x.shape)\n",
    "\n",
    "    prediction = model.predict(x)[0]\n",
    "    max_index = np.argmax(prediction)\n",
    "    max_val = np.amax(prediction)\n",
    "\n",
    "    pred_class = class_names[max_index]\n",
    "    pred_class_dir = join(pred_dir, pred_class)\n",
    "    make_dir_helper(pred_class_dir)\n",
    "\n",
    "    img.save(join(pred_class_dir, 'image_{}.jpg'.format(idx)), \"JPEG\", quality=100, optimize=True)"
   ]
  }
 ],
 "metadata": {
  "kernelspec": {
   "display_name": "Python 3",
   "language": "python",
   "name": "python3"
  },
  "language_info": {
   "codemirror_mode": {
    "name": "ipython",
    "version": 3
   },
   "file_extension": ".py",
   "mimetype": "text/x-python",
   "name": "python",
   "nbconvert_exporter": "python",
   "pygments_lexer": "ipython3",
   "version": "3.6.1"
  }
 },
 "nbformat": 4,
 "nbformat_minor": 2
}
