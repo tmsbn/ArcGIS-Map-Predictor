{
 "cells": [
  {
   "cell_type": "code",
   "execution_count": 60,
   "metadata": {
    "collapsed": true
   },
   "outputs": [],
   "source": [
    "import image_slicer\n",
    "import traceback\n",
    "from os import listdir, remove\n",
    "from os.path import join, exists\n",
    "from shutil import rmtree\n",
    "from PIL import Image"
   ]
  },
  {
   "cell_type": "code",
   "execution_count": 61,
   "metadata": {
    "collapsed": true
   },
   "outputs": [],
   "source": [
    "def remove_files(dir_path):\n",
    "    for file_name in listdir(dir_path):\n",
    "        if file_name.endswith('.jpg'):\n",
    "            remove(join(dir_path, file_name))\n",
    "    return False"
   ]
  },
  {
   "cell_type": "code",
   "execution_count": 62,
   "metadata": {
    "collapsed": true
   },
   "outputs": [],
   "source": [
    "def crop(input_file_path, output_file_path, height, width):\n",
    "    with Image.open(input_file_path) as im:\n",
    "        imgwidth, imgheight = im.size\n",
    "        idx = 0\n",
    "        for i in range(0,imgheight - height , height): # Don't include borders\n",
    "            for j in range(0,imgwidth - width , width):\n",
    "                box = (j, i, j+width, i+height)\n",
    "                try:\n",
    "                    a = im.crop(box)\n",
    "                    a.save(join(output_file_path, 'image_{}.jpg'.format(idx)), \"JPEG\", quality=100, optimize=True)\n",
    "                except:\n",
    "                    traceback.print_exc()\n",
    "                    pass\n",
    "                idx +=1"
   ]
  },
  {
   "cell_type": "code",
   "execution_count": 63,
   "metadata": {
    "collapsed": true
   },
   "outputs": [],
   "source": [
    "image_name = 'map_1.tif'\n",
    "tile_size = 150\n",
    "input_image_path = join('images', image_name)\n",
    "output_image_path = 'sliced images'\n",
    "remove_files(output_image_path)\n",
    "crop(input_image_path, output_image_path, tile_size, tile_size)"
   ]
  }
 ],
 "metadata": {
  "kernelspec": {
   "display_name": "Python 3",
   "language": "python",
   "name": "python3"
  },
  "language_info": {
   "codemirror_mode": {
    "name": "ipython",
    "version": 3
   },
   "file_extension": ".py",
   "mimetype": "text/x-python",
   "name": "python",
   "nbconvert_exporter": "python",
   "pygments_lexer": "ipython3",
   "version": "3.6.1"
  }
 },
 "nbformat": 4,
 "nbformat_minor": 2
}
