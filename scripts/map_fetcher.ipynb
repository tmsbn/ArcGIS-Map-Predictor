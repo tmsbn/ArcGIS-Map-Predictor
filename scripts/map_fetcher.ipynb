{
 "cells": [
  {
   "cell_type": "code",
   "execution_count": 71,
   "metadata": {},
   "outputs": [],
   "source": [
    "from urllib.request import urlretrieve\n",
    "from urllib.parse import urlencode\n",
    "import image_slicer\n",
    "import traceback\n",
    "from os import listdir, remove, mkdir\n",
    "from os.path import join, exists, expanduser\n",
    "from shutil import rmtree\n",
    "from PIL import Image"
   ]
  },
  {
   "cell_type": "code",
   "execution_count": 72,
   "metadata": {
    "collapsed": true
   },
   "outputs": [],
   "source": [
    "def remove_files(dir_path):\n",
    "    for file_name in listdir(dir_path):\n",
    "        if file_name.endswith('.jpg'):\n",
    "            remove(join(dir_path, file_name))\n",
    "    return False"
   ]
  },
  {
   "cell_type": "code",
   "execution_count": 73,
   "metadata": {
    "collapsed": true
   },
   "outputs": [],
   "source": [
    "def make_dir_helper(dir_path):\n",
    "    if not exists(dir_path):\n",
    "        mkdir(dir_path)\n",
    "        return True\n",
    "    return False"
   ]
  },
  {
   "cell_type": "code",
   "execution_count": 74,
   "metadata": {
    "collapsed": true
   },
   "outputs": [],
   "source": [
    "def crop(map_file_path, sliced_dir, height, width):\n",
    "    with Image.open(map_file_path) as im:\n",
    "        imgwidth, imgheight = im.size\n",
    "        idx = 0\n",
    "        for i in range(0,imgheight - height , height): # Don't include borders\n",
    "            for j in range(0,imgwidth - width , width):\n",
    "                box = (j, i, j+width, i+height)\n",
    "                try:\n",
    "                    a = im.crop(box)\n",
    "                    a.save(join(sliced_dir, 'image_{}.jpg'.format(idx)), \"JPEG\", quality=100, optimize=True)\n",
    "                except:\n",
    "                    traceback.print_exc()\n",
    "                    pass\n",
    "                idx +=1"
   ]
  },
  {
   "cell_type": "code",
   "execution_count": 75,
   "metadata": {},
   "outputs": [],
   "source": [
    "project_dir = join(expanduser('~'),'desktop','Esri Project');"
   ]
  },
  {
   "cell_type": "code",
   "execution_count": 76,
   "metadata": {},
   "outputs": [],
   "source": [
    "URL = 'http://services.arcgisonline.com/arcgis/rest/services/World_Imagery/MapServer/export?'\n",
    "x_min = -117.261067\n",
    "y_min = 33.052972\n",
    "x_max = -117.256993\n",
    "y_max = 33.054659\n",
    "spatial_ref = 4326\n",
    "width = 1000\n",
    "height = 1000\n",
    "\n",
    "parameters = {\n",
    "    'bbox':'{},{},{},{}'.format(x_min, y_min, x_max, y_max),\n",
    "    'bboxSR':spatial_ref,\n",
    "    'size':'{},{}'.format(width, height),\n",
    "    'format':'jpg',\n",
    "    'f':'image'\n",
    "}\n",
    "\n",
    "URL += urlencode(parameters)\n",
    "\n",
    "MAP_NAME = 'map.jpg'\n",
    "MAP_DIR = join(project_dir, 'maps')\n",
    "SLICED_DIR = join(MAP_DIR, 'sliced')\n",
    "make_dir_helper(MAP_DIR)\n",
    "make_dir_helper(SLICED_DIR)\n",
    "\n",
    "MAP_FILE_PATH = join(MAP_DIR, MAP_NAME)\n",
    "\n",
    "urlretrieve(URL, MAP_FILE_PATH)\n",
    "\n",
    "tile_size = 200\n",
    "remove_files(SLICED_DIR)\n",
    "crop(MAP_FILE_PATH, SLICED_DIR, tile_size, tile_size)"
   ]
  }
 ],
 "metadata": {
  "kernelspec": {
   "display_name": "Python 3",
   "language": "python",
   "name": "python3"
  },
  "language_info": {
   "codemirror_mode": {
    "name": "ipython",
    "version": 3
   },
   "file_extension": ".py",
   "mimetype": "text/x-python",
   "name": "python",
   "nbconvert_exporter": "python",
   "pygments_lexer": "ipython3",
   "version": "3.6.1"
  }
 },
 "nbformat": 4,
 "nbformat_minor": 2
}
