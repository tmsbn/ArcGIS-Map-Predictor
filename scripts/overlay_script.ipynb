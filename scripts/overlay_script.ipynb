{
 "cells": [
  {
   "cell_type": "code",
   "execution_count": 15,
   "metadata": {
    "collapsed": true
   },
   "outputs": [],
   "source": [
    "from PIL import Image\n",
    "from os.path import join, expanduser\n",
    "from file_utils import make_dir_helper, is_jpeg, delete_dir_helper"
   ]
  },
  {
   "cell_type": "code",
   "execution_count": 32,
   "metadata": {},
   "outputs": [
    {
     "data": {
      "text/plain": [
       "False"
      ]
     },
     "execution_count": 32,
     "metadata": {},
     "output_type": "execute_result"
    }
   ],
   "source": [
    "project_dir_name = join('desktop','Esri Project')\n",
    "data_dir = join(expanduser('~'),  project_dir_name, 'original data 2')\n",
    "map_dir = join(expanduser('~'),  project_dir_name, 'maps')\n",
    "model_path =  join(expanduser('~'),  project_dir_name, 'models', 'map_multi_model_7.h5');\n",
    "image_path = join(map_dir, 'map.jpg');\n",
    "sliced_dir = join(map_dir, 'temp_slices');\n",
    "\n",
    "make_dir_helper(sliced_dir)"
   ]
  },
  {
   "cell_type": "code",
   "execution_count": 36,
   "metadata": {
    "collapsed": true
   },
   "outputs": [],
   "source": [
    "with Image.open(image_path) as im:\n",
    "    \n",
    "    imgwidth, imgheight = im.size\n",
    "    SLICE_WIDTH, SLICE_HEIGHT = 256, 256\n",
    "    overlay_color = (255, 255, 0, 60)\n",
    "    size = (WIDTH, HEIGHT)\n",
    "\n",
    "    modified_image = Image.new('RGB', (imgwidth, imgheight))\n",
    "    idx = 0\n",
    "    y_offset = 0\n",
    "    \n",
    "    for i in range(0, imgheight , SLICE_HEIGHT):\n",
    "        x_offset = 0\n",
    "        for j in range(0, imgwidth , SLICE_WIDTH):\n",
    "            box = (j, i, j + SLICE_WIDTH, i + SLICE_HEIGHT)\n",
    "            try:\n",
    "                 \n",
    "                cropped_image = im.crop(box)\n",
    "                overlay = Image.new('RGBA', size, overlay_color)\n",
    "                cropped_image.paste(overlay, (0, 0), overlay)\n",
    "                cropped_image.save(join(sliced_dir, 'image_{}.jpg'.format(idx)), \"JPEG\", quality=100, optimize=True)\n",
    "                \n",
    "                \n",
    "                modified_image.paste(cropped_image, (x_offset, y_offset))\n",
    "                x_offset = x_offset + SLICE_WIDTH\n",
    "                \n",
    "            except:\n",
    "                traceback.print_exc()\n",
    "                pass\n",
    "            idx +=1\n",
    "        y_offset = y_offset + SLICE_HEIGHT\n",
    "    modified_image.save(join(map_dir, 'modified_map.jpg'), \"JPEG\", quality=100, optimize=True)"
   ]
  },
  {
   "cell_type": "code",
   "execution_count": null,
   "metadata": {
    "collapsed": true
   },
   "outputs": [],
   "source": [
    "# def move_map(direction):\n",
    "#   extent = arc_map.extent\n",
    "#    print(extent)\n",
    "    \n",
    "#     x_delta = extent['xmax'] - extent['xmin']\n",
    "#     y_delta = extent['ymax'] - extent['ymin']\n",
    "    \n",
    "#    x_delta = 400\n",
    "#    y_delta = 400\n",
    "   \n",
    "    \n",
    "#     if direction == 'up':\n",
    "#         extent['ymax'] = extent['ymax'] + y_delta\n",
    "#         extent['ymin'] = extent['ymin'] + y_delta\n",
    "#     elif direction == 'down':\n",
    "#         new_extent['ymax'] = extent['ymax'] - y_delta\n",
    "#         new_extent['ymin'] = extent['ymin'] - y_delta\n",
    "#     elif direction == 'left':\n",
    "#         new_extent['xmax'] = extent['xmax'] - x_delta\n",
    "#         new_extent['xmin'] = extent['xmin'] - x_delta\n",
    "#     elif direction == 'right':\n",
    "#         new_extent['xmax'] = extent['xmax'] + x_delta\n",
    "#         new_extent['xmin'] = extent['xmin'] + x_delta\n",
    "#     else:\n",
    "#         print('wrong input')\n",
    "#    print(new_extent)\n",
    "    arc_map.extent = extent\n",
    "move_map('up')"
   ]
  }
 ],
 "metadata": {
  "kernelspec": {
   "display_name": "Python 3",
   "language": "python",
   "name": "python3"
  },
  "language_info": {
   "codemirror_mode": {
    "name": "ipython",
    "version": 3
   },
   "file_extension": ".py",
   "mimetype": "text/x-python",
   "name": "python",
   "nbconvert_exporter": "python",
   "pygments_lexer": "ipython3",
   "version": "3.6.1"
  }
 },
 "nbformat": 4,
 "nbformat_minor": 2
}
