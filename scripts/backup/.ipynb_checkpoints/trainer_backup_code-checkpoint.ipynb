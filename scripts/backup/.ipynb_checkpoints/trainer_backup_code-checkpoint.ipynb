{
 "cells": [
  {
   "cell_type": "code",
   "execution_count": null,
   "metadata": {
    "collapsed": true
   },
   "outputs": [],
   "source": [
    "fnames = []\n",
    "target_dir = test_dir\n",
    "dnames = [join(target_dir, dname) for dname in listdir(target_dir)]\n",
    "\n",
    "for dname in dnames:\n",
    "    \n",
    "    fnames =([join(dname, fname) for fname in listdir(dname)])\n",
    "    \n",
    "    cur_class = dname.split('\\\\')[-1]\n",
    "    print(cur_class, end=':- ')\n",
    "\n",
    "    NO_OF_FIG = 15\n",
    "    correct_predict_count = 0\n",
    "    high_accuracy_count = 0\n",
    "    \n",
    "    max_indices = []\n",
    "    wrong_class_list = []\n",
    "    \n",
    "    for index, img_path in enumerate(fnames):\n",
    "          \n",
    "        img = image.load_img(img_path, target_size=(IMAGE_SIZE, IMAGE_SIZE)) \n",
    "        \n",
    "        img_tensor = image.img_to_array(img)\n",
    "        img_tensor = img_tensor.reshape((1,) + img_tensor.shape)\n",
    "        img_tensor /= 255.\n",
    "        prediction = model.predict(img_tensor)[0]\n",
    "        \n",
    "        max_val = np.amax(prediction)\n",
    "        max_index = np.argmax(prediction)\n",
    "        \n",
    "        pred_class = CLASSES_TO_CLASSIFY[max_index]\n",
    "        \n",
    "        if pred_class == cur_class:         \n",
    "            correct_predict_count +=1\n",
    "        else:\n",
    "            wrong_class_list.append(pred_class)\n",
    "            \n",
    "        if max_val > 0.8:\n",
    "            high_accuracy_count += 1\n",
    "          \n",
    "    print('Accuracy: ' + str(correct_predict_count / len(fnames) * 100) + ' , High count: ' + str(high_accuracy_count))\n",
    "    print('\\n' + str(wrong_class_list) + '\\n')\n",
    "    "
   ]
  },
  {
   "cell_type": "code",
   "execution_count": null,
   "metadata": {
    "collapsed": true
   },
   "outputs": [],
   "source": [
    "fnames = []\n",
    "target_dir = test_dir\n",
    "dnames = [join(target_dir, dname) for dname in listdir(target_dir)]\n",
    "\n",
    "for dname in dnames:\n",
    "    \n",
    "    fnames =([join(dname, fname) for fname in listdir(dname)])\n",
    "    \n",
    "    cur_class = dname.split('\\\\')[-1]\n",
    "    print(cur_class, end=':- ')\n",
    "\n",
    "    correct_predict_count = 0\n",
    "    high_accuracy_count = 0\n",
    "    \n",
    "    for index, img_path in enumerate(fnames):\n",
    "          \n",
    "        img = image.load_img(img_path, target_size=(IMAGE_SIZE, IMAGE_SIZE)) \n",
    "        \n",
    "        img_tensor = image.img_to_array(img)\n",
    "        img_tensor = img_tensor.reshape((1,) + img_tensor.shape)\n",
    "        img_tensor /= 255.\n",
    "        prediction = model.predict(img_tensor)[0]\n",
    "        \n",
    "        if cur_class == 'others':\n",
    "            if prediction[0] <= 0.5:\n",
    "                correct_predict_count +=1\n",
    "        else:\n",
    "            if prediction[0] > 0.5:\n",
    "                correct_predict_count +=1\n",
    "\n",
    "          \n",
    "    print('Accuracy: ' + str(correct_predict_count / len(fnames) * 100) + ' , High count: ' + str(high_accuracy_count))\n",
    "    "
   ]
  }
 ],
 "metadata": {
  "kernelspec": {
   "display_name": "Python 3",
   "language": "python",
   "name": "python3"
  },
  "language_info": {
   "codemirror_mode": {
    "name": "ipython",
    "version": 3
   },
   "file_extension": ".py",
   "mimetype": "text/x-python",
   "name": "python",
   "nbconvert_exporter": "python",
   "pygments_lexer": "ipython3",
   "version": "3.6.1"
  }
 },
 "nbformat": 4,
 "nbformat_minor": 2
}
