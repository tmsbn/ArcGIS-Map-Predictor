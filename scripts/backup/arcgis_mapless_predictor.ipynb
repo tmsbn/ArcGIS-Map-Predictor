{
 "cells": [
  {
   "cell_type": "markdown",
   "metadata": {},
   "source": [
    "### Instructions\n",
    "This script is for training a binary classification model CNN from the given dataset using Keras + Tensorflow stack.\n",
    "1. Configure the paramers as required\n",
    "2. Configure the model as required\n",
    "3. Run all the cells"
   ]
  },
  {
   "cell_type": "markdown",
   "metadata": {},
   "source": [
    "### Imports\n",
    "\n",
    "imports the required modules from keras, Tensorflow, PIL, numpy and custom file handling functions"
   ]
  },
  {
   "cell_type": "code",
   "execution_count": 1,
   "metadata": {},
   "outputs": [
    {
     "ename": "ModuleNotFoundError",
     "evalue": "No module named 'image_slicer'",
     "output_type": "error",
     "traceback": [
      "\u001b[1;31m---------------------------------------------------------------------------\u001b[0m",
      "\u001b[1;31mModuleNotFoundError\u001b[0m                       Traceback (most recent call last)",
      "\u001b[1;32m<ipython-input-1-b326d02ea067>\u001b[0m in \u001b[0;36m<module>\u001b[1;34m()\u001b[0m\n\u001b[0;32m      1\u001b[0m \u001b[1;32mfrom\u001b[0m \u001b[0murllib\u001b[0m\u001b[1;33m.\u001b[0m\u001b[0mrequest\u001b[0m \u001b[1;32mimport\u001b[0m \u001b[0murlretrieve\u001b[0m\u001b[1;33m\u001b[0m\u001b[0m\n\u001b[0;32m      2\u001b[0m \u001b[1;32mfrom\u001b[0m \u001b[0murllib\u001b[0m\u001b[1;33m.\u001b[0m\u001b[0mparse\u001b[0m \u001b[1;32mimport\u001b[0m \u001b[0murlencode\u001b[0m\u001b[1;33m\u001b[0m\u001b[0m\n\u001b[1;32m----> 3\u001b[1;33m \u001b[1;32mimport\u001b[0m \u001b[0mimage_slicer\u001b[0m\u001b[1;33m\u001b[0m\u001b[0m\n\u001b[0m\u001b[0;32m      4\u001b[0m \u001b[1;32mimport\u001b[0m \u001b[0mtraceback\u001b[0m\u001b[1;33m\u001b[0m\u001b[0m\n\u001b[0;32m      5\u001b[0m \u001b[1;32mfrom\u001b[0m \u001b[0mos\u001b[0m \u001b[1;32mimport\u001b[0m \u001b[0mlistdir\u001b[0m\u001b[1;33m,\u001b[0m \u001b[0mremove\u001b[0m\u001b[1;33m,\u001b[0m \u001b[0mmkdir\u001b[0m\u001b[1;33m\u001b[0m\u001b[0m\n",
      "\u001b[1;31mModuleNotFoundError\u001b[0m: No module named 'image_slicer'"
     ]
    }
   ],
   "source": [
    "from urllib.request import urlretrieve\n",
    "from urllib.parse import urlencode\n",
    "import image_slicer\n",
    "import traceback\n",
    "from os import listdir, remove, mkdir\n",
    "from os.path import join, exists, expanduser, isdir\n",
    "from shutil import rmtree\n",
    "from utils.file_utils import make_dir_helper, is_jpeg, delete_dir_helper\n",
    "from PIL import Image\n",
    "from keras.preprocessing import image\n",
    "from keras import optimizers, regularizers, models, layers\n",
    "from keras.models import load_model, model_from_json\n",
    "import numpy as np"
   ]
  },
  {
   "cell_type": "markdown",
   "metadata": {},
   "source": [
    "### Configurable parameters\n",
    "\n",
    "Defines various constants, directory paths and design of the model"
   ]
  },
  {
   "cell_type": "code",
   "execution_count": null,
   "metadata": {
    "collapsed": true
   },
   "outputs": [],
   "source": [
    "URL = 'http://services.arcgisonline.com/arcgis/rest/services/World_Imagery/MapServer/export?'\n",
    "x_min = -117.261067\n",
    "y_min = 33.052972\n",
    "x_max = -117.256993\n",
    "y_max = 33.054659\n",
    "extent = {'xmin': -13043537.000969624, 'ymin': 4035872.34275381, 'xmax': -13042340.283745637, 'ymax': 4036350.07418055}\n",
    "spatial_ref = 4326\n",
    "width = 1000\n",
    "height = 1000"
   ]
  },
  {
   "cell_type": "code",
   "execution_count": 20,
   "metadata": {
    "collapsed": true
   },
   "outputs": [],
   "source": [
    "def crop(map_file_path, sliced_dir, height, width):\n",
    "    \n",
    "    with Image.open(map_file_path) as im:\n",
    "        imgwidth, imgheight = im.size\n",
    "        idx = 0\n",
    "        for i in range(0,imgheight - height , height): # Don't include borders\n",
    "            for j in range(0,imgwidth - width , width):\n",
    "                box = (j, i, j+width, i+height)\n",
    "                try:\n",
    "                    a = im.crop(box)\n",
    "                    a.save(join(sliced_dir, 'image_{}.jpg'.format(idx)), \"JPEG\", quality=100, optimize=True)\n",
    "                except:\n",
    "                    traceback.print_exc()\n",
    "                    pass\n",
    "                idx +=1"
   ]
  },
  {
   "cell_type": "code",
   "execution_count": 21,
   "metadata": {
    "collapsed": true
   },
   "outputs": [],
   "source": [
    "def get_class_names(base_dir):\n",
    "    return [dname for dname in listdir(base_dir) if isdir(join(base_dir, dname))]"
   ]
  },
  {
   "cell_type": "code",
   "execution_count": 22,
   "metadata": {
    "collapsed": true
   },
   "outputs": [],
   "source": [
    "def predict_class(model, data_dir, pred_dir, class_names):\n",
    "    \n",
    "    image_size = 256\n",
    "    \n",
    "    model.compile(loss='categorical_crossentropy',optimizer=optimizers.RMSprop(lr=1e-4), metrics=['acc'])\n",
    "    model.summary()\n",
    "    \n",
    "    fnames = [fname for fname in listdir(data_dir) if is_jpeg(fname)]\n",
    "    print(fnames)\n",
    "    \n",
    "    for idx, fname in enumerate(fnames):\n",
    "        \n",
    "        img_path = join(data_dir, fname)\n",
    "        \n",
    "        img = image.load_img(img_path, target_size=(IMAGE_SIZE, IMAGE_SIZE)) \n",
    "        x = image.img_to_array(img)\n",
    "        x = x.reshape((1,) + x.shape)\n",
    "        \n",
    "        prediction = model.predict(x)[0]\n",
    "        max_index = np.argmax(prediction)\n",
    "        max_val = np.amax(prediction)\n",
    "        \n",
    "        pred_class = class_names[max_index]\n",
    "        pred_class_dir = join(pred_dir, pred_class)\n",
    "        make_dir_helper(pred_class_dir)\n",
    "        \n",
    "        img.save(join(pred_class_dir, 'image_{}.jpg'.format(idx)), \"JPEG\", quality=100, optimize=True)\n",
    "        "
   ]
  },
  {
   "cell_type": "code",
   "execution_count": null,
   "metadata": {
    "collapsed": true
   },
   "outputs": [],
   "source": []
  },
  {
   "cell_type": "code",
   "execution_count": 23,
   "metadata": {},
   "outputs": [
    {
     "name": "stdout",
     "output_type": "stream",
     "text": [
      "_________________________________________________________________\n",
      "Layer (type)                 Output Shape              Param #   \n",
      "=================================================================\n",
      "vgg16 (Model)                (None, 4, 4, 512)         14714688  \n",
      "_________________________________________________________________\n",
      "flatten_5 (Flatten)          (None, 8192)              0         \n",
      "_________________________________________________________________\n",
      "dense_9 (Dense)              (None, 256)               2097408   \n",
      "_________________________________________________________________\n",
      "dropout_5 (Dropout)          (None, 256)               0         \n",
      "_________________________________________________________________\n",
      "dense_10 (Dense)             (None, 9)                 2313      \n",
      "=================================================================\n",
      "Total params: 16,814,409\n",
      "Trainable params: 2,099,721\n",
      "Non-trainable params: 14,714,688\n",
      "_________________________________________________________________\n",
      "['image_0.jpg', 'image_1.jpg', 'image_10.jpg', 'image_11.jpg', 'image_12.jpg', 'image_13.jpg', 'image_14.jpg', 'image_15.jpg', 'image_16.jpg', 'image_17.jpg', 'image_18.jpg', 'image_19.jpg', 'image_2.jpg', 'image_20.jpg', 'image_21.jpg', 'image_22.jpg', 'image_23.jpg', 'image_24.jpg', 'image_25.jpg', 'image_26.jpg', 'image_27.jpg', 'image_28.jpg', 'image_29.jpg', 'image_3.jpg', 'image_30.jpg', 'image_31.jpg', 'image_32.jpg', 'image_33.jpg', 'image_34.jpg', 'image_35.jpg', 'image_4.jpg', 'image_5.jpg', 'image_6.jpg', 'image_7.jpg', 'image_8.jpg', 'image_9.jpg']\n"
     ]
    }
   ],
   "source": [
    "parameters = {\n",
    "    'bbox':'{},{},{},{}'.format(x_min, y_min, x_max, y_max),\n",
    "    'bboxSR':spatial_ref,\n",
    "    'size':'{},{}'.format(width, height),\n",
    "    'format':'jpg',\n",
    "    'f':'image'\n",
    "}\n",
    "\n",
    "URL += urlencode(parameters)\n",
    "\n",
    "PROJECT_DIR = join(expanduser('~'),'desktop','Esri Project');\n",
    "MAP_NAME = 'map.jpg'\n",
    "MAP_DIR = join(PROJECT_DIR, 'maps')\n",
    "SLICED_DIR = join(MAP_DIR, 'sliced')\n",
    "PRED_DIR = join(MAP_DIR, 'predicted')\n",
    "MODEL_FILE_PATH = join(PROJECT_DIR, 'models', 'map_multi_model_7.h5')\n",
    "IMAGE_SIZE = 150\n",
    "\n",
    "\n",
    "CLASSES = get_class_names(join(PROJECT_DIR, 'original data 2'))\n",
    "\n",
    "delete_dir_helper(SLICED_DIR)\n",
    "\n",
    "make_dir_helper(MAP_DIR)\n",
    "make_dir_helper(SLICED_DIR)\n",
    "make_dir_helper(PRED_DIR)\n",
    "\n",
    "\n",
    "MAP_FILE_PATH = join(MAP_DIR, MAP_NAME)\n",
    "\n",
    "\n",
    "if urlretrieve(URL, MAP_FILE_PATH):\n",
    "\n",
    "    tile_size = 200\n",
    "    crop(MAP_FILE_PATH, SLICED_DIR, IMAGE_SIZE, IMAGE_SIZE)\n",
    "    model = load_model(MODEL_FILE_PATH)\n",
    "    predict_class(model, SLICED_DIR, PRED_DIR, CLASSES)\n",
    "    "
   ]
  }
 ],
 "metadata": {
  "kernelspec": {
   "display_name": "Python 3",
   "language": "python",
   "name": "python3"
  },
  "language_info": {
   "codemirror_mode": {
    "name": "ipython",
    "version": 3
   },
   "file_extension": ".py",
   "mimetype": "text/x-python",
   "name": "python",
   "nbconvert_exporter": "python",
   "pygments_lexer": "ipython3",
   "version": "3.6.1"
  }
 },
 "nbformat": 4,
 "nbformat_minor": 2
}
