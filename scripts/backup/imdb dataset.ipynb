{
 "cells": [
  {
   "cell_type": "code",
   "execution_count": 11,
   "metadata": {},
   "outputs": [],
   "source": [
    "from keras.datasets import imdb\n",
    "from keras import regularizers\n",
    "from keras.models import Sequential\n",
    "from keras.layers import Dense, Dropout\n",
    "import matplotlib.pyplot as plt\n",
    "import numpy as np"
   ]
  },
  {
   "cell_type": "markdown",
   "metadata": {},
   "source": [
    "Load the dataset"
   ]
  },
  {
   "cell_type": "code",
   "execution_count": 12,
   "metadata": {},
   "outputs": [],
   "source": [
    "num_word = 10000\n",
    "(train_data, train_label), (test_data, test_label) = imdb.load_data(num_words=num_word)"
   ]
  },
  {
   "cell_type": "code",
   "execution_count": 13,
   "metadata": {
    "collapsed": true
   },
   "outputs": [],
   "source": [
    "def vectorize_sequences(sequences):\n",
    "    \n",
    "    arr = np.zeros((len(sequences), num_word))\n",
    "    for idx, sequence in enumerate(sequences):\n",
    "        arr[idx, sequence] = 1\n",
    "    return arr"
   ]
  },
  {
   "cell_type": "code",
   "execution_count": 14,
   "metadata": {
    "collapsed": true
   },
   "outputs": [],
   "source": [
    "x_train = vectorize_sequences(train_data)\n",
    "x_test = vectorize_sequences(test_data)\n",
    "\n",
    "y_train = np.asarray(train_label).astype('float32')\n",
    "y_test = np.asarray(test_label).astype('float32')"
   ]
  },
  {
   "cell_type": "code",
   "execution_count": 15,
   "metadata": {
    "collapsed": true
   },
   "outputs": [],
   "source": [
    "def build_model():\n",
    "    model = Sequential()\n",
    "    model.add(Dense(4, activation='relu', kernel_regularizer=regularizers.l2(0.001), input_shape=(num_word,)))\n",
    "    model.add(Dropout(0.5))\n",
    "    model.add(Dense(4, kernel_regularizer=regularizers.l2(0.001), activation='relu'))\n",
    "    model.add(Dropout(0.5))\n",
    "    model.add(Dense(1, activation='sigmoid'))\n",
    "    return model"
   ]
  },
  {
   "cell_type": "code",
   "execution_count": 16,
   "metadata": {},
   "outputs": [
    {
     "name": "stdout",
     "output_type": "stream",
     "text": [
      "Train on 17500 samples, validate on 7500 samples\n",
      "Epoch 1/10\n",
      "17500/17500 [==============================] - 5s - loss: 0.2364 - acc: 0.5639 - val_loss: 0.1864 - val_acc: 0.8567\n",
      "Epoch 2/10\n",
      "17500/17500 [==============================] - 4s - loss: 0.2096 - acc: 0.6229 - val_loss: 0.1558 - val_acc: 0.8603\n",
      "Epoch 3/10\n",
      "17500/17500 [==============================] - 4s - loss: 0.1997 - acc: 0.6828 - val_loss: 0.1348 - val_acc: 0.8629\n",
      "Epoch 4/10\n",
      "17500/17500 [==============================] - 4s - loss: 0.1961 - acc: 0.6927 - val_loss: 0.1381 - val_acc: 0.8613\n",
      "Epoch 5/10\n",
      "17500/17500 [==============================] - 4s - loss: 0.1946 - acc: 0.6923 - val_loss: 0.1382 - val_acc: 0.8537\n",
      "Epoch 6/10\n",
      "17500/17500 [==============================] - 4s - loss: 0.1959 - acc: 0.6916 - val_loss: 0.1355 - val_acc: 0.8563\n",
      "Epoch 7/10\n",
      "17500/17500 [==============================] - 4s - loss: 0.1947 - acc: 0.6979 - val_loss: 0.1371 - val_acc: 0.8443\n",
      "Epoch 8/10\n",
      "17500/17500 [==============================] - 4s - loss: 0.1940 - acc: 0.6951 - val_loss: 0.1351 - val_acc: 0.8515\n",
      "Epoch 9/10\n",
      "17500/17500 [==============================] - 4s - loss: 0.1962 - acc: 0.6910 - val_loss: 0.1322 - val_acc: 0.8420\n",
      "Epoch 10/10\n",
      "17500/17500 [==============================] - 4s - loss: 0.1949 - acc: 0.6930 - val_loss: 0.1344 - val_acc: 0.8412\n"
     ]
    }
   ],
   "source": [
    "model = build_model()\n",
    "model.compile(optimizer='RMSprop', \n",
    "              loss='mean_squared_error',\n",
    "              metrics=['accuracy'])\n",
    "history = model.fit(x_train, y_train, epochs=10, validation_split=0.3)"
   ]
  },
  {
   "cell_type": "code",
   "execution_count": 17,
   "metadata": {},
   "outputs": [
    {
     "name": "stdout",
     "output_type": "stream",
     "text": [
      "dict_keys(['val_loss', 'val_acc', 'loss', 'acc'])\n"
     ]
    },
    {
     "data": {
      "image/png": "[encoded data removed]",
      "text/plain": [
       "<matplotlib.figure.Figure at 0x2149370d860>"
      ]
     },
     "metadata": {},
     "output_type": "display_data"
    }
   ],
   "source": [
    "history_dict = history.history\n",
    "print(history_dict.keys())\n",
    "\n",
    "loss_values = history_dict['loss']\n",
    "val_loss_values = history_dict['val_loss']\n",
    "\n",
    "epochs = range(1, len(loss_values) + 1)\n",
    "\n",
    "plt.plot(epochs, loss_values, 'bo')\n",
    "plt.plot(epochs, val_loss_values, 'b+')\n",
    "\n",
    "plt.xlabel('Epochs')\n",
    "plt.ylabel('Loss')\n",
    "\n",
    "plt.show()"
   ]
  },
  {
   "cell_type": "code",
   "execution_count": 18,
   "metadata": {},
   "outputs": [
    {
     "name": "stdout",
     "output_type": "stream",
     "text": [
      "24736/25000 [============================>.] - ETA: 0s"
     ]
    }
   ],
   "source": [
    "test_loss, test_accuracy = model.evaluate(x_test, y_test)"
   ]
  },
  {
   "cell_type": "code",
   "execution_count": 19,
   "metadata": {},
   "outputs": [
    {
     "data": {
      "text/plain": [
       "(0.13568573609352111, 0.83899999999999997)"
      ]
     },
     "execution_count": 19,
     "metadata": {},
     "output_type": "execute_result"
    }
   ],
   "source": [
    "test_loss, test_accuracy"
   ]
  },
  {
   "cell_type": "code",
   "execution_count": null,
   "metadata": {
    "collapsed": true
   },
   "outputs": [],
   "source": []
  }
 ],
 "metadata": {
  "kernelspec": {
   "display_name": "Python 3",
   "language": "python",
   "name": "python3"
  },
  "language_info": {
   "codemirror_mode": {
    "name": "ipython",
    "version": 3
   },
   "file_extension": ".py",
   "mimetype": "text/x-python",
   "name": "python",
   "nbconvert_exporter": "python",
   "pygments_lexer": "ipython3",
   "version": "3.6.1"
  }
 },
 "nbformat": 4,
 "nbformat_minor": 2
}
