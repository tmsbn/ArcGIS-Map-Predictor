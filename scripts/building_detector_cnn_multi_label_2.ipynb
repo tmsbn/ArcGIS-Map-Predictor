{
 "cells": [
  {
   "cell_type": "code",
   "execution_count": 1,
   "metadata": {},
   "outputs": [
    {
     "name": "stderr",
     "output_type": "stream",
     "text": [
      "Using TensorFlow backend.\n"
     ]
    }
   ],
   "source": [
    "from keras.models import Sequential\n",
    "from keras.layers import Dense, Dropout, Flatten\n",
    "from keras.layers.convolutional import Conv2D, MaxPooling2D, ZeroPadding2D\n",
    "from keras.datasets import mnist\n",
    "from keras.utils import to_categorical\n",
    "from keras.preprocessing.image import ImageDataGenerator\n",
    "from keras.preprocessing import image\n",
    "from keras import optimizers, regularizers, models, layers\n",
    "from keras.callbacks import EarlyStopping, ModelCheckpoint\n",
    "from random import shuffle, randint\n",
    "import numpy as np\n",
    "import future\n",
    "from keras.applications import VGG16\n",
    "from PIL import Image\n",
    "\n",
    "import matplotlib.pyplot as plt\n",
    "import os, shutil\n",
    "from os import listdir, mkdir\n",
    "from os.path import join, isfile, isdir, exists\n",
    "from keras.models import load_model, model_from_json"
   ]
  },
  {
   "cell_type": "code",
   "execution_count": 2,
   "metadata": {
    "collapsed": true
   },
   "outputs": [],
   "source": [
    "def make_dir_helper(dir_path):\n",
    "    if not os.path.exists(dir_path):\n",
    "        mkdir(dir_path)\n",
    "        return True\n",
    "    return False"
   ]
  },
  {
   "cell_type": "code",
   "execution_count": 3,
   "metadata": {
    "collapsed": true
   },
   "outputs": [],
   "source": [
    "def delete_dir_helper(dir_path):\n",
    "    if os.path.exists(dir_path):\n",
    "        shutil.rmtree(dir_path)\n",
    "        return True\n",
    "    return False"
   ]
  },
  {
   "cell_type": "code",
   "execution_count": 4,
   "metadata": {
    "collapsed": true
   },
   "outputs": [],
   "source": [
    "def compile_model(model):\n",
    "    model.compile(loss='categorical_crossentropy',\n",
    "            optimizer=optimizers.RMSprop(lr=1e-4),\n",
    "             metrics=['acc'])\n",
    "    model.summary()"
   ]
  },
  {
   "cell_type": "code",
   "execution_count": 5,
   "metadata": {
    "collapsed": true
   },
   "outputs": [],
   "source": [
    "def is_jpeg(fname):\n",
    "    return fname.split('.')[-1] == 'jpg'"
   ]
  },
  {
   "cell_type": "code",
   "execution_count": 6,
   "metadata": {
    "collapsed": true
   },
   "outputs": [],
   "source": [
    "def get_class_names(base_dir):\n",
    "    return [dname for dname in listdir(base_dir) if isdir(join(base_dir, dname))]"
   ]
  },
  {
   "cell_type": "code",
   "execution_count": 7,
   "metadata": {},
   "outputs": [
    {
     "name": "stdout",
     "output_type": "stream",
     "text": [
      "['agricultural', 'airplane', 'buildings', 'chaparral', 'denseresidential', 'forest', 'freeway', 'harbor', 'overpass', 'parkinglot', 'river', 'storagetanks']\n"
     ]
    }
   ],
   "source": [
    "#project_dir_name = join('Esri Project')\n",
    "project_dir_name = join('desktop','Esri Project')\n",
    "original_dataset_dir = join(os.path.expanduser('~'), project_dir_name, 'original data 2');\n",
    "base_dir =  join(os.path.expanduser('~'), project_dir_name, 'data');\n",
    "base_scripts_dir =  join(os.path.expanduser('~'), project_dir_name, 'scripts');\n",
    "model_dir =  join(os.path.expanduser('~'),  project_dir_name, 'models');\n",
    "\n",
    "MODEL_FILE_NAME = 'map_multi_model_6.h5'\n",
    "\n",
    "CLASSES_TO_CLASSIFY = get_class_names(original_dataset_dir)\n",
    "print(CLASSES_TO_CLASSIFY)\n",
    "NO_OF_CLASSES = len(CLASSES_TO_CLASSIFY)\n",
    "\n",
    "ext = '.jpg'\n",
    "IMAGE_SIZE = 150\n",
    "EPOCHS = 30\n",
    "NO_TRAINING_SAMPLES = 70\n",
    "BATCH_SIZE = 15\n",
    "STEPS_PER_EPOCH = 5\n",
    "\n",
    "train_dir = join(base_dir, 'train')\n",
    "validation_dir = join(base_dir, 'validation')\n",
    "test_dir = join(base_dir, 'test')\n",
    "model_file_path = join(model_dir, MODEL_FILE_NAME)\n",
    "\n",
    "# Delete the previous data folder and all its contents\n",
    "delete_dir_helper(base_dir)\n",
    "\n",
    "make_dir_helper(base_dir)\n",
    "make_dir_helper(model_dir)\n",
    "\n",
    "# Make base directories\n",
    "make_dir_helper(train_dir)\n",
    "make_dir_helper(validation_dir)\n",
    "make_dir_helper(test_dir)\n",
    "\n",
    "for classes in CLASSES_TO_CLASSIFY:\n",
    "    \n",
    "    train_class_dir = join(train_dir, classes)\n",
    "    validation_class_dir = join(validation_dir, classes)\n",
    "    test_class_dir = join(test_dir, classes)\n",
    "    \n",
    "    # Make train sub directories\n",
    "    make_dir_helper(train_class_dir)\n",
    "    make_dir_helper(validation_class_dir)\n",
    "    make_dir_helper(test_class_dir)\n",
    "    \n",
    "    \n",
    "    original_dataset_class_dir = join(original_dataset_dir, classes)\n",
    "    fnames = [fname for fname in listdir(original_dataset_class_dir) if isfile(join(original_dataset_class_dir,fname)) and is_jpeg(fname)]\n",
    "    \n",
    "    shuffle(fnames)\n",
    "    \n",
    "    for idx, fname in enumerate(fnames):\n",
    "        \n",
    "        src_dir = join(original_dataset_class_dir, fname)\n",
    "        if idx < 70:\n",
    "            dst_dir = join(train_class_dir, fname)\n",
    "            shutil.copyfile(src_dir, dst_dir)\n",
    "        elif 70 <= idx < 100:\n",
    "            dst_dir = join(validation_class_dir, fname)\n",
    "            shutil.copyfile(src_dir, dst_dir)\n",
    "            \n",
    "            dst_dir = join(test_class_dir, fname)\n",
    "            shutil.copyfile(src_dir, dst_dir)"
   ]
  },
  {
   "cell_type": "code",
   "execution_count": 8,
   "metadata": {},
   "outputs": [
    {
     "name": "stdout",
     "output_type": "stream",
     "text": [
      "Found saved model with name map_multi_model_6.h5\n",
      "_________________________________________________________________\n",
      "Layer (type)                 Output Shape              Param #   \n",
      "=================================================================\n",
      "vgg16 (Model)                (None, 4, 4, 512)         14714688  \n",
      "_________________________________________________________________\n",
      "flatten_3 (Flatten)          (None, 8192)              0         \n",
      "_________________________________________________________________\n",
      "dense_5 (Dense)              (None, 128)               1048704   \n",
      "_________________________________________________________________\n",
      "dropout_3 (Dropout)          (None, 128)               0         \n",
      "_________________________________________________________________\n",
      "dense_6 (Dense)              (None, 12)                1548      \n",
      "=================================================================\n",
      "Total params: 15,764,940\n",
      "Trainable params: 15,764,940\n",
      "Non-trainable params: 0\n",
      "_________________________________________________________________\n"
     ]
    }
   ],
   "source": [
    "is_model_from_file = False\n",
    "model = None\n",
    "if exists(model_file_path):\n",
    "    print('Found saved model with name ' + MODEL_FILE_NAME)\n",
    "    model = load_model(model_file_path)\n",
    "    compile_model(model)\n",
    "else:\n",
    "    print('NO saved model with name ' + MODEL_FILE_NAME)"
   ]
  },
  {
   "cell_type": "code",
   "execution_count": 9,
   "metadata": {},
   "outputs": [
    {
     "name": "stdout",
     "output_type": "stream",
     "text": [
      "Found 840 images belonging to 12 classes.\n",
      "Found 360 images belonging to 12 classes.\n"
     ]
    }
   ],
   "source": [
    "    train_datagen = ImageDataGenerator(rescale=1./255,\n",
    "                                       vertical_flip=True,\n",
    "                                       shear_range=0.2,\n",
    "                                       zoom_range=0.2,\n",
    "                                       rotation_range=40,\n",
    "                                       width_shift_range=0.2,\n",
    "                                       height_shift_range=0.2,\n",
    "                                       horizontal_flip=True)  \n",
    "    test_datagen = ImageDataGenerator(rescale=1./255)\n",
    "\n",
    "    train_generator = train_datagen.flow_from_directory(\n",
    "            train_dir,  \n",
    "            target_size=(IMAGE_SIZE, IMAGE_SIZE),  \n",
    "            batch_size=BATCH_SIZE,\n",
    "            class_mode='categorical')  \n",
    "\n",
    "    validation_generator = test_datagen.flow_from_directory(\n",
    "            validation_dir,\n",
    "            target_size=(IMAGE_SIZE, IMAGE_SIZE),\n",
    "            batch_size=BATCH_SIZE,\n",
    "            class_mode='categorical')"
   ]
  },
  {
   "cell_type": "code",
   "execution_count": 10,
   "metadata": {
    "scrolled": true
   },
   "outputs": [
    {
     "name": "stdout",
     "output_type": "stream",
     "text": [
      "data batch: (15, 150, 150, 3)\n",
      "labels batch: (15, 12)\n"
     ]
    }
   ],
   "source": [
    "    for idx, (data_batch, labels_batch) in enumerate(train_generator):\n",
    "        print('data batch:', data_batch.shape)\n",
    "        print('labels batch:', labels_batch.shape)\n",
    "        break"
   ]
  },
  {
   "cell_type": "code",
   "execution_count": 11,
   "metadata": {
    "collapsed": true
   },
   "outputs": [],
   "source": [
    "#     model = models.Sequential()\n",
    "#     model.add(layers.Conv2D(32, (3, 3), activation='relu', padding='same', input_shape=(IMAGE_SIZE, IMAGE_SIZE, 3)))\n",
    "#     model.add(layers.MaxPooling2D((2, 2)))\n",
    "#     model.add(layers.Conv2D(64, (3, 3), padding='same', activation='relu'))\n",
    "#     model.add(layers.MaxPooling2D((2, 2)))\n",
    "#     model.add(layers.Conv2D(128, (3, 3), padding='same', activation='relu'))\n",
    "#     model.add(layers.MaxPooling2D((2, 2)))\n",
    "#     model.add(layers.Conv2D(256, (3, 3), padding='same', activation='relu'))\n",
    "#     model.add(layers.MaxPooling2D((2, 2)))\n",
    "#     model.add(conv_base)\n",
    "#     model.add(layers.Flatten())\n",
    "#     model.add(layers.Dropout(0.5))\n",
    "#     model.add(layers.Dense(64, activation='relu'))\n",
    "#     model.add(layers.Dense(6, activation='softmax'))"
   ]
  },
  {
   "cell_type": "code",
   "execution_count": 12,
   "metadata": {
    "collapsed": true
   },
   "outputs": [],
   "source": [
    "    model = models.Sequential()\n",
    "    conv_base = VGG16(weights='imagenet' ,include_top=False, input_shape=(IMAGE_SIZE, IMAGE_SIZE, 3))\n",
    "    conv_base.trainable = False\n",
    "    model.add(conv_base)\n",
    "    model.add(layers.Flatten())\n",
    "    model.add(layers.Dense(256, activation='relu', kernel_regularizer=regularizers.l2(0.001)))\n",
    "    model.add(layers.Dropout(0.3))\n",
    "    model.add(layers.Dense(NO_OF_CLASSES, activation='softmax'))"
   ]
  },
  {
   "cell_type": "code",
   "execution_count": 13,
   "metadata": {},
   "outputs": [
    {
     "name": "stdout",
     "output_type": "stream",
     "text": [
      "_________________________________________________________________\n",
      "Layer (type)                 Output Shape              Param #   \n",
      "=================================================================\n",
      "vgg16 (Model)                (None, 4, 4, 512)         14714688  \n",
      "_________________________________________________________________\n",
      "flatten_1 (Flatten)          (None, 8192)              0         \n",
      "_________________________________________________________________\n",
      "dense_1 (Dense)              (None, 256)               2097408   \n",
      "_________________________________________________________________\n",
      "dropout_1 (Dropout)          (None, 256)               0         \n",
      "_________________________________________________________________\n",
      "dense_2 (Dense)              (None, 12)                3084      \n",
      "=================================================================\n",
      "Total params: 16,815,180\n",
      "Trainable params: 2,100,492\n",
      "Non-trainable params: 14,714,688\n",
      "_________________________________________________________________\n"
     ]
    }
   ],
   "source": [
    "    compile_model(model)"
   ]
  },
  {
   "cell_type": "code",
   "execution_count": 14,
   "metadata": {
    "scrolled": true
   },
   "outputs": [
    {
     "name": "stdout",
     "output_type": "stream",
     "text": [
      "Epoch 1/30\n",
      "10/10 [==============================] - 86s - loss: 3.1072 - acc: 0.1133 - val_loss: 3.0208 - val_acc: 0.0800\n",
      "Epoch 2/30\n",
      "10/10 [==============================] - 54s - loss: 2.9446 - acc: 0.1200 - val_loss: 2.7399 - val_acc: 0.1800\n",
      "Epoch 3/30\n",
      "10/10 [==============================] - 54s - loss: 2.8935 - acc: 0.1333 - val_loss: 2.7537 - val_acc: 0.1600\n",
      "Epoch 4/30\n",
      "10/10 [==============================] - 54s - loss: 2.8783 - acc: 0.1067 - val_loss: 2.4301 - val_acc: 0.3733\n",
      "Epoch 5/30\n",
      "10/10 [==============================] - 54s - loss: 2.4840 - acc: 0.2733 - val_loss: 2.0324 - val_acc: 0.3133\n",
      "Epoch 6/30\n",
      "10/10 [==============================] - 54s - loss: 2.2311 - acc: 0.3533 - val_loss: 1.8317 - val_acc: 0.5200\n",
      "Epoch 7/30\n",
      "10/10 [==============================] - 54s - loss: 1.9172 - acc: 0.4667 - val_loss: 1.7240 - val_acc: 0.4733\n",
      "Epoch 8/30\n",
      "10/10 [==============================] - 54s - loss: 1.7378 - acc: 0.5333 - val_loss: 1.4694 - val_acc: 0.5733\n",
      "Epoch 9/30\n",
      "10/10 [==============================] - 54s - loss: 1.8085 - acc: 0.5200 - val_loss: 0.9325 - val_acc: 0.7533\n",
      "Epoch 10/30\n",
      "10/10 [==============================] - 54s - loss: 1.3551 - acc: 0.6333 - val_loss: 1.3403 - val_acc: 0.6467\n",
      "Epoch 11/30\n",
      "10/10 [==============================] - 54s - loss: 1.4325 - acc: 0.6333 - val_loss: 1.1670 - val_acc: 0.6800\n",
      "Epoch 12/30\n",
      "10/10 [==============================] - 54s - loss: 1.2675 - acc: 0.6800 - val_loss: 1.1807 - val_acc: 0.6467\n",
      "Epoch 13/30\n",
      "10/10 [==============================] - 54s - loss: 1.0518 - acc: 0.7200 - val_loss: 1.3625 - val_acc: 0.6400\n",
      "Epoch 14/30\n",
      "10/10 [==============================] - 54s - loss: 1.2068 - acc: 0.7267 - val_loss: 1.2812 - val_acc: 0.6800\n",
      "Epoch 15/30\n",
      "10/10 [==============================] - 54s - loss: 1.2668 - acc: 0.6867 - val_loss: 0.8662 - val_acc: 0.7867\n",
      "Epoch 16/30\n",
      "10/10 [==============================] - 55s - loss: 0.6942 - acc: 0.8533 - val_loss: 0.7148 - val_acc: 0.8000\n",
      "Epoch 17/30\n",
      "10/10 [==============================] - 55s - loss: 0.8360 - acc: 0.7867 - val_loss: 0.8406 - val_acc: 0.8267\n",
      "Epoch 18/30\n",
      "10/10 [==============================] - 55s - loss: 1.1214 - acc: 0.6867 - val_loss: 0.8771 - val_acc: 0.8200\n",
      "Epoch 19/30\n",
      "10/10 [==============================] - 54s - loss: 0.8111 - acc: 0.8333 - val_loss: 0.6195 - val_acc: 0.8600\n",
      "Epoch 20/30\n",
      "10/10 [==============================] - 54s - loss: 0.8124 - acc: 0.8067 - val_loss: 0.6375 - val_acc: 0.8867\n"
     ]
    },
    {
     "data": {
      "image/png": "[encoded data removed]",
      "text/plain": [
       "<matplotlib.figure.Figure at 0x1d09c7d1630>"
      ]
     },
     "metadata": {},
     "output_type": "display_data"
    },
    {
     "data": {
      "image/png": "[encoded data removed]",
      "text/plain": [
       "<matplotlib.figure.Figure at 0x1d0ac27ea58>"
      ]
     },
     "metadata": {},
     "output_type": "display_data"
    }
   ],
   "source": [
    "    callbacks = [\n",
    "        EarlyStopping(monitor='acc', patience=3, mode='auto'),\n",
    "        ModelCheckpoint(monitor='val_loss', save_best_only=True, filepath=model_file_path)\n",
    "    ]\n",
    "    \n",
    "    history = model.fit_generator(\n",
    "        train_generator,\n",
    "        steps_per_epoch=10,\n",
    "        epochs=EPOCHS,\n",
    "        validation_data=validation_generator,\n",
    "        callbacks = callbacks,\n",
    "        validation_steps=10)\n",
    "\n",
    "    acc = history.history['acc']\n",
    "    val_acc = history.history['val_acc']\n",
    "    loss = history.history['loss']\n",
    "    val_loss = history.history['val_loss']\n",
    "\n",
    "    epochs = range(len(acc))\n",
    "\n",
    "    plt.plot(epochs, acc, 'b+')\n",
    "    plt.plot(epochs, val_acc, 'bo')\n",
    "    plt.title('Training and validation accuracy')\n",
    "\n",
    "    plt.figure()\n",
    "\n",
    "    plt.plot(epochs, loss, 'b+')\n",
    "    plt.plot(epochs, val_loss, 'bo')\n",
    "    plt.title('Training and validation loss')\n",
    "\n",
    "    plt.show()"
   ]
  },
  {
   "cell_type": "code",
   "execution_count": 17,
   "metadata": {},
   "outputs": [
    {
     "name": "stdout",
     "output_type": "stream",
     "text": [
      "agricultural\n",
      "Accuracy of class:50.0\n",
      "airplane\n",
      "Accuracy of class:100.0\n",
      "buildings\n",
      "Accuracy of class:66.66666666666666\n",
      "chaparral\n",
      "Accuracy of class:100.0\n",
      "denseresidential\n",
      "Accuracy of class:76.66666666666667\n",
      "forest\n",
      "Accuracy of class:56.666666666666664\n",
      "freeway\n",
      "Accuracy of class:100.0\n",
      "harbor\n",
      "Accuracy of class:96.66666666666667\n",
      "overpass\n",
      "Accuracy of class:66.66666666666666\n",
      "parkinglot\n",
      "Accuracy of class:100.0\n",
      "river\n",
      "Accuracy of class:3.3333333333333335\n",
      "storagetanks\n",
      "Accuracy of class:93.33333333333333\n"
     ]
    }
   ],
   "source": [
    "fnames = []\n",
    "target_dir = test_dir\n",
    "# dnames = [os.path.join(target_dir, dname) for dname in os.listdir(target_dir)]\n",
    "dnames = [os.path.join(target_dir, dname) for dname in os.listdir(target_dir)]\n",
    "\n",
    "for dname in dnames:\n",
    "    \n",
    "    fnames =([os.path.join(dname, fname) for fname in os.listdir(dname)])\n",
    "    \n",
    "    cur_class = dname.split('\\\\')[-1]\n",
    "    print(cur_class)\n",
    "\n",
    "    NO_OF_FIG = 15\n",
    "    correct_predict = 0\n",
    "    \n",
    "    max_indices = []\n",
    "    \n",
    "    for index, img_path in enumerate(fnames):\n",
    "          \n",
    "        img = image.load_img(img_path, target_size=(IMAGE_SIZE, IMAGE_SIZE)) \n",
    "        \n",
    "        x = image.img_to_array(img)\n",
    "        x = x.reshape((1,) + x.shape)\n",
    "        prediction = model.predict(x)[0]\n",
    "        \n",
    "        # print(prediction)\n",
    "        # prediction = [round(x, 2) for x in prediction]\n",
    "        \n",
    "        # img.thumbnail((50,50), Image.ANTIALIAS)\n",
    "        # imgplot = plt.imshow(img)\n",
    "        \n",
    "        max_val = np.amax(prediction)\n",
    "        max_index = np.argmax(prediction)\n",
    "        max_indices.append('idx:' + str(max_index) + 'val:' + str(max_val))\n",
    "        title = ''\n",
    "\n",
    "        if prediction[max_index] > 0.7:\n",
    "            pred_class = CLASSES_TO_CLASSIFY[max_index]\n",
    "            title += pred_class + ' '\n",
    "          \n",
    "            if pred_class == cur_class:         \n",
    "                correct_predict +=1\n",
    "          \n",
    "#       title += str(prediction)\n",
    "#       plt.axis('off')\n",
    "#       plt.title(title)\n",
    "    \n",
    "    # print(max_indices)\n",
    "    print('Accuracy of class:' + str(correct_predict / len(fnames) * 100))\n",
    "    # plt.show()"
   ]
  }
 ],
 "metadata": {
  "kernelspec": {
   "display_name": "Python 3",
   "language": "python",
   "name": "python3"
  },
  "language_info": {
   "codemirror_mode": {
    "name": "ipython",
    "version": 3
   },
   "file_extension": ".py",
   "mimetype": "text/x-python",
   "name": "python",
   "nbconvert_exporter": "python",
   "pygments_lexer": "ipython3",
   "version": "3.6.1"
  }
 },
 "nbformat": 4,
 "nbformat_minor": 2
}
