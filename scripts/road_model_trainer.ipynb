{
 "cells": [
  {
   "cell_type": "markdown",
   "metadata": {},
   "source": [
    "### Imports\n",
    "\n",
    "imports the required modules from keras, Tensorflow, PIL, numpy and custom file handling functions"
   ]
  },
  {
   "cell_type": "code",
   "execution_count": 4,
   "metadata": {},
   "outputs": [
    {
     "name": "stderr",
     "output_type": "stream",
     "text": [
      "Using TensorFlow backend.\n"
     ]
    }
   ],
   "source": [
    "from keras.models import Sequential\n",
    "from keras.layers import Dense, Dropout, Flatten\n",
    "from keras.layers.convolutional import Conv2D, MaxPooling2D, ZeroPadding2D, SeparableConv2D\n",
    "from keras.datasets import mnist\n",
    "from keras.utils import to_categorical\n",
    "from keras.preprocessing.image import ImageDataGenerator\n",
    "from keras.preprocessing import image\n",
    "from keras import optimizers, regularizers, models, layers\n",
    "from keras.callbacks import EarlyStopping, ModelCheckpoint\n",
    "from keras.applications import VGG16\n",
    "from random import shuffle, randint\n",
    "import numpy as np\n",
    "from PIL import Image\n",
    "\n",
    "import matplotlib.pyplot as plt\n",
    "import os, shutil\n",
    "from os import listdir\n",
    "from os.path import isfile, join\n",
    "from keras.models import load_model, model_from_json\n",
    "from pathlib import Path\n",
    "from file_utils import make_dir_helper, delete_dir_helper, is_jpeg"
   ]
  },
  {
   "cell_type": "markdown",
   "metadata": {},
   "source": [
    "### Contants and directory paths\n",
    "\n",
    "Defines various constants, and directory paths used for this project."
   ]
  },
  {
   "cell_type": "code",
   "execution_count": 10,
   "metadata": {
    "collapsed": true
   },
   "outputs": [],
   "source": [
    "project_dir_name = 'Esri Project'\n",
    "base_scripts_dir =  join(os.path.expanduser('~'), 'Desktop', project_dir_name, 'scripts');\n",
    "model_dir =  join(os.path.expanduser('~'), 'Desktop', project_dir_name, 'models');\n",
    "\n",
    "POSITIVE_CLASS = 'roads'\n",
    "NEGATIVE_CLASS = 'others'\n",
    "MODEL_FILE_NAME = POSITIVE_CLASS + '_detector_model.h5'\n",
    "ext = '.jpg'\n",
    "IMAGE_SIZE = 128\n",
    "EPOCHS = 20\n",
    "BATCH_SIZE = 10\n",
    "STEPS_PER_EPOCH = 100\n",
    "\n",
    "dataset_dir_name =   'redlands dataset'\n",
    "original_dataset_dir = join(os.path.expanduser('~'),'Desktop', project_dir_name, 'datasets', dataset_dir_name);\n",
    "positive_dataset_dir = join(original_dataset_dir, POSITIVE_CLASS)\n",
    "negative_dataset_dir = join(original_dataset_dir, NEGATIVE_CLASS)\n",
    "\n",
    "base_data_dir =  join(os.path.expanduser('~'), 'Desktop', project_dir_name, 'temp data');\n",
    "\n",
    "train_dir = join(base_data_dir, 'train')\n",
    "validation_dir = join(base_data_dir, 'validation')\n",
    "test_dir = join(base_data_dir, 'test')\n",
    "aug_dir = join(base_data_dir, 'augmented images')\n",
    "\n",
    "model_file_path = join(model_dir, MODEL_FILE_NAME)\n",
    "\n",
    "train_pos_dir = join(train_dir, POSITIVE_CLASS)\n",
    "validation_pos_dir = join(validation_dir, POSITIVE_CLASS)\n",
    "test_pos_dir = join(test_dir, POSITIVE_CLASS)\n",
    "\n",
    "train_neg_dir = join(train_dir, NEGATIVE_CLASS)\n",
    "validation_neg_dir = join(validation_dir, NEGATIVE_CLASS)\n",
    "test_neg_dir = join(test_dir, NEGATIVE_CLASS)"
   ]
  },
  {
   "cell_type": "markdown",
   "metadata": {},
   "source": [
    "### Create temp directories\n",
    "Split the dataset into train, validation and test dataset"
   ]
  },
  {
   "cell_type": "code",
   "execution_count": 8,
   "metadata": {},
   "outputs": [
    {
     "data": {
      "text/plain": [
       "True"
      ]
     },
     "execution_count": 8,
     "metadata": {},
     "output_type": "execute_result"
    }
   ],
   "source": [
    "delete_dir_helper(base_data_dir)\n",
    "\n",
    "# Make base directories\n",
    "make_dir_helper(base_data_dir)\n",
    "make_dir_helper(train_dir)\n",
    "make_dir_helper(validation_dir)\n",
    "make_dir_helper(test_dir)\n",
    "make_dir_helper(model_dir)\n",
    "make_dir_helper(aug_dir)\n",
    "\n",
    "# Make positive class sub directories\n",
    "make_dir_helper(train_pos_dir)\n",
    "make_dir_helper(validation_pos_dir)\n",
    "make_dir_helper(test_pos_dir)\n",
    "\n",
    "# Make negative class sub directories\n",
    "make_dir_helper(train_neg_dir)\n",
    "make_dir_helper(validation_neg_dir)\n",
    "make_dir_helper(test_neg_dir)"
   ]
  },
  {
   "cell_type": "markdown",
   "metadata": {},
   "source": [
    "### Build the train, validation and test dataset for the positive dataset\n",
    "\n",
    "Copy 70% of the images from the positive dataset to the train dataset, rest of the images are copied into the validation and test dataset."
   ]
  },
  {
   "cell_type": "code",
   "execution_count": 11,
   "metadata": {
    "scrolled": true
   },
   "outputs": [],
   "source": [
    "fnames = [f for f in listdir(positive_dataset_dir) if isfile(join(positive_dataset_dir, f))]\n",
    "shuffle(fnames)\n",
    "\n",
    "no_samples = len(fnames)\n",
    "no_training_samples = round(no_samples * .70)\n",
    "\n",
    "for idx, fname in enumerate(fnames):\n",
    "    \n",
    "    src_dir = os.path.join(positive_dataset_dir, fname)\n",
    "    if idx < no_training_samples:\n",
    "        \n",
    "        dst_dir = os.path.join(train_pos_dir, fname)\n",
    "        shutil.copyfile(src_dir, dst_dir)\n",
    "    \n",
    "    elif no_training_samples <= idx < no_samples:\n",
    "        \n",
    "        dst_dir = os.path.join(validation_pos_dir, fname)\n",
    "        shutil.copyfile(src_dir, dst_dir)\n",
    "        \n",
    "        dst_dir = os.path.join(test_pos_dir, fname)\n",
    "        shutil.copyfile(src_dir, dst_dir)"
   ]
  },
  {
   "cell_type": "markdown",
   "metadata": {},
   "source": [
    "### Build the train, validation and test dataset for the negative dataset\n",
    "\n",
    "Copy 70% of the images from the positive dataset to the train dataset, rest of the images are copied into the validation and test dataset"
   ]
  },
  {
   "cell_type": "code",
   "execution_count": 12,
   "metadata": {
    "collapsed": true
   },
   "outputs": [],
   "source": [
    "fnames = [f for f in os.listdir(negative_dataset_dir) if isfile(join(negative_dataset_dir, f))]\n",
    "shuffle(fnames)\n",
    "\n",
    "no_samples = len(fnames)\n",
    "no_training_samples = int(no_samples * .70)\n",
    "  \n",
    "for idx, fname in enumerate(fnames):\n",
    "    \n",
    "    src_dir = os.path.join(negative_dataset_dir, fname)\n",
    "    if idx < no_training_samples:\n",
    "        \n",
    "        dst_dir = os.path.join(train_neg_dir, fname)\n",
    "        shutil.copyfile(src_dir, dst_dir)\n",
    "        \n",
    "    elif no_training_samples <= idx < no_samples:\n",
    "        \n",
    "        dst_dir = os.path.join(validation_neg_dir, fname)\n",
    "        shutil.copyfile(src_dir, dst_dir)\n",
    "        dst_dir = os.path.join(test_neg_dir, fname)\n",
    "        shutil.copyfile(src_dir, dst_dir)"
   ]
  },
  {
   "cell_type": "markdown",
   "metadata": {},
   "source": [
    "### Create train and validation generators\n",
    "Generators will produce unlimited images frome a directory images after applying the specified augmentations"
   ]
  },
  {
   "cell_type": "code",
   "execution_count": 13,
   "metadata": {},
   "outputs": [
    {
     "name": "stdout",
     "output_type": "stream",
     "text": [
      "Found 2814 images belonging to 2 classes.\n",
      "Found 1207 images belonging to 2 classes.\n"
     ]
    }
   ],
   "source": [
    "train_datagen = ImageDataGenerator(rescale=1./255,\n",
    "                                   vertical_flip=True,\n",
    "                                   shear_range=0.2,\n",
    "                                   zoom_range=0.2,\n",
    "                                   rotation_range=40,\n",
    "                                   width_shift_range=0.2,\n",
    "                                   height_shift_range=0.2,\n",
    "                                   horizontal_flip=True)   \n",
    "\n",
    "test_datagen = ImageDataGenerator(rescale=1./255)\n",
    "\n",
    "train_generator = train_datagen.flow_from_directory(\n",
    "        train_dir,  \n",
    "        target_size=(IMAGE_SIZE, IMAGE_SIZE),  \n",
    "        batch_size=BATCH_SIZE,\n",
    "        class_mode='binary')  \n",
    "\n",
    "validation_generator = test_datagen.flow_from_directory(\n",
    "        validation_dir,\n",
    "        target_size=(IMAGE_SIZE, IMAGE_SIZE),\n",
    "        batch_size=BATCH_SIZE,\n",
    "        class_mode='binary')"
   ]
  },
  {
   "cell_type": "markdown",
   "metadata": {},
   "source": [
    "### Build the CNN Model\n",
    "\n",
    "Design a CNN model according for binary classification"
   ]
  },
  {
   "cell_type": "code",
   "execution_count": 14,
   "metadata": {},
   "outputs": [
    {
     "name": "stdout",
     "output_type": "stream",
     "text": [
      "_________________________________________________________________\n",
      "Layer (type)                 Output Shape              Param #   \n",
      "=================================================================\n",
      "separable_conv2d_1 (Separabl (None, 128, 128, 32)      155       \n",
      "_________________________________________________________________\n",
      "max_pooling2d_1 (MaxPooling2 (None, 64, 64, 32)        0         \n",
      "_________________________________________________________________\n",
      "separable_conv2d_2 (Separabl (None, 64, 64, 64)        2400      \n",
      "_________________________________________________________________\n",
      "max_pooling2d_2 (MaxPooling2 (None, 32, 32, 64)        0         \n",
      "_________________________________________________________________\n",
      "separable_conv2d_3 (Separabl (None, 32, 32, 128)       8896      \n",
      "_________________________________________________________________\n",
      "max_pooling2d_3 (MaxPooling2 (None, 16, 16, 128)       0         \n",
      "_________________________________________________________________\n",
      "flatten_1 (Flatten)          (None, 32768)             0         \n",
      "_________________________________________________________________\n",
      "dense_1 (Dense)              (None, 256)               8388864   \n",
      "_________________________________________________________________\n",
      "dropout_1 (Dropout)          (None, 256)               0         \n",
      "_________________________________________________________________\n",
      "dense_2 (Dense)              (None, 1)                 257       \n",
      "=================================================================\n",
      "Total params: 8,400,572\n",
      "Trainable params: 8,400,572\n",
      "Non-trainable params: 0\n",
      "_________________________________________________________________\n"
     ]
    }
   ],
   "source": [
    "model = models.Sequential()\n",
    "\n",
    "model.add(SeparableConv2D(32, (3, 3), activation='relu', padding='same', input_shape=(IMAGE_SIZE, IMAGE_SIZE, 3)))\n",
    "model.add(MaxPooling2D(2, 2))\n",
    "model.add(SeparableConv2D(64, (3, 3), activation='relu', padding='same'))\n",
    "model.add(MaxPooling2D(2, 2))\n",
    "model.add(SeparableConv2D(128, (3, 3), activation='relu', padding='same'))\n",
    "model.add(MaxPooling2D(2, 2))\n",
    "model.add(layers.Flatten())\n",
    "model.add(layers.Dense(256, activation='relu', kernel_regularizer=regularizers.l2(0.001)))\n",
    "model.add(layers.Dropout(0.5))\n",
    "model.add(layers.Dense(1, activation='sigmoid'))\n",
    "\n",
    "model.compile(loss='binary_crossentropy',\n",
    "            optimizer=optimizers.RMSprop(lr=1e-4),\n",
    "             metrics=['acc'])\n",
    "model.summary()\n",
    "\n",
    "callbacks = [\n",
    "    EarlyStopping(monitor='acc', patience=5, mode='auto'),\n",
    "    ModelCheckpoint(monitor='val_loss', save_best_only=True, filepath=model_file_path)\n",
    "]"
   ]
  },
  {
   "cell_type": "markdown",
   "metadata": {},
   "source": [
    "### Train model \n",
    "\n",
    "Train the model using the training dataset"
   ]
  },
  {
   "cell_type": "code",
   "execution_count": 15,
   "metadata": {
    "scrolled": true
   },
   "outputs": [
    {
     "name": "stdout",
     "output_type": "stream",
     "text": [
      "Epoch 1/20\n",
      "100/100 [==============================] - 28s - loss: 0.8663 - acc: 0.6110 - val_loss: 0.7293 - val_acc: 0.6090\n",
      "Epoch 2/20\n",
      "100/100 [==============================] - 27s - loss: 0.7050 - acc: 0.6070 - val_loss: 0.6907 - val_acc: 0.6088\n",
      "Epoch 3/20\n",
      "100/100 [==============================] - 27s - loss: 0.6910 - acc: 0.6030 - val_loss: 0.6824 - val_acc: 0.6058\n",
      "Epoch 4/20\n",
      "100/100 [==============================] - 26s - loss: 0.6775 - acc: 0.6010 - val_loss: 0.6703 - val_acc: 0.6048\n",
      "Epoch 5/20\n",
      "100/100 [==============================] - 27s - loss: 0.6658 - acc: 0.6100 - val_loss: 0.6556 - val_acc: 0.6128\n",
      "Epoch 6/20\n",
      "100/100 [==============================] - 26s - loss: 0.6549 - acc: 0.6225 - val_loss: 0.6529 - val_acc: 0.6118\n",
      "Epoch 7/20\n",
      "100/100 [==============================] - 26s - loss: 0.6420 - acc: 0.6220 - val_loss: 0.6426 - val_acc: 0.6269\n",
      "Epoch 8/20\n",
      "100/100 [==============================] - 26s - loss: 0.6495 - acc: 0.5940 - val_loss: 0.6474 - val_acc: 0.6269\n",
      "Epoch 9/20\n",
      "100/100 [==============================] - 27s - loss: 0.6407 - acc: 0.6210 - val_loss: 0.6323 - val_acc: 0.6550\n",
      "Epoch 10/20\n",
      "100/100 [==============================] - 27s - loss: 0.6269 - acc: 0.6530 - val_loss: 0.6258 - val_acc: 0.6610\n",
      "Epoch 11/20\n",
      "100/100 [==============================] - 27s - loss: 0.6342 - acc: 0.6480 - val_loss: 0.6224 - val_acc: 0.6340\n",
      "Epoch 12/20\n",
      "100/100 [==============================] - 26s - loss: 0.6295 - acc: 0.6510 - val_loss: 0.6325 - val_acc: 0.6350\n",
      "Epoch 13/20\n",
      "100/100 [==============================] - 27s - loss: 0.6295 - acc: 0.6450 - val_loss: 0.6290 - val_acc: 0.6499\n",
      "Epoch 14/20\n",
      "100/100 [==============================] - 27s - loss: 0.6208 - acc: 0.6450 - val_loss: 0.6135 - val_acc: 0.6499\n",
      "Epoch 15/20\n",
      "100/100 [==============================] - 26s - loss: 0.6107 - acc: 0.6695 - val_loss: 0.6420 - val_acc: 0.6620\n",
      "Epoch 16/20\n",
      "100/100 [==============================] - 27s - loss: 0.6318 - acc: 0.6500 - val_loss: 0.6101 - val_acc: 0.6489\n",
      "Epoch 17/20\n",
      "100/100 [==============================] - 26s - loss: 0.6180 - acc: 0.6430 - val_loss: 0.6250 - val_acc: 0.6489\n",
      "Epoch 18/20\n",
      "100/100 [==============================] - 27s - loss: 0.6241 - acc: 0.6500 - val_loss: 0.6004 - val_acc: 0.6550\n",
      "Epoch 19/20\n",
      "100/100 [==============================] - 26s - loss: 0.6196 - acc: 0.6530 - val_loss: 0.6195 - val_acc: 0.6389\n",
      "Epoch 20/20\n",
      "100/100 [==============================] - 26s - loss: 0.6193 - acc: 0.6420 - val_loss: 0.6125 - val_acc: 0.6720\n"
     ]
    },
    {
     "data": {
      "image/png": "[encoded data removed]",
      "text/plain": [
       "<matplotlib.figure.Figure at 0x2dd4bf7ac88>"
      ]
     },
     "metadata": {},
     "output_type": "display_data"
    },
    {
     "data": {
      "image/png": "[encoded data removed]",
      "text/plain": [
       "<matplotlib.figure.Figure at 0x2dd7ea703c8>"
      ]
     },
     "metadata": {},
     "output_type": "display_data"
    }
   ],
   "source": [
    "history = model.fit_generator(\n",
    "      train_generator,\n",
    "      steps_per_epoch=STEPS_PER_EPOCH,\n",
    "      epochs=EPOCHS,\n",
    "      callbacks = callbacks,\n",
    "      validation_data=validation_generator,\n",
    "      validation_steps=STEPS_PER_EPOCH)\n",
    "\n",
    "model.save(model_file_path) \n",
    "\n",
    "acc = history.history['acc']\n",
    "val_acc = history.history['val_acc']\n",
    "loss = history.history['loss']\n",
    "val_loss = history.history['val_loss']\n",
    "\n",
    "epochs = range(len(acc))\n",
    "\n",
    "plt.plot(epochs, acc, 'b+')\n",
    "plt.plot(epochs, val_acc, 'bo')\n",
    "plt.title('Training and validation accuracy')\n",
    "\n",
    "plt.figure()\n",
    "\n",
    "plt.plot(epochs, loss, 'b+')\n",
    "plt.plot(epochs, val_loss, 'bo')\n",
    "plt.title('Training and validation loss')\n",
    "\n",
    "plt.show()"
   ]
  },
  {
   "cell_type": "code",
   "execution_count": 18,
   "metadata": {},
   "outputs": [
    {
     "name": "stdout",
     "output_type": "stream",
     "text": [
      "others:- Accuracy: 67.66304347826086 , High count: 0\n",
      "roads:- Accuracy: 62.84501061571125 , High count: 0\n"
     ]
    }
   ],
   "source": [
    "fnames = []\n",
    "target_dir = test_dir\n",
    "dnames = [join(target_dir, dname) for dname in listdir(target_dir)]\n",
    "\n",
    "for dname in dnames:\n",
    "    \n",
    "    fnames =([join(dname, fname) for fname in listdir(dname)])\n",
    "    \n",
    "    cur_class = dname.split('\\\\')[-1]\n",
    "    print(cur_class, end=':- ')\n",
    "\n",
    "    correct_predict_count = 0\n",
    "    high_accuracy_count = 0\n",
    "    \n",
    "    for index, img_path in enumerate(fnames):\n",
    "          \n",
    "        img = image.load_img(img_path, target_size=(IMAGE_SIZE, IMAGE_SIZE)) \n",
    "        \n",
    "        img_tensor = image.img_to_array(img)\n",
    "        img_tensor = img_tensor.reshape((1,) + img_tensor.shape)\n",
    "        img_tensor /= 255.\n",
    "        prediction = model.predict(img_tensor)[0]\n",
    "        \n",
    "        if cur_class == 'others':\n",
    "            if prediction[0] <= 0.5:\n",
    "                correct_predict_count +=1\n",
    "        else:\n",
    "            if prediction[0] > 0.5:\n",
    "                correct_predict_count +=1\n",
    "\n",
    "          \n",
    "    print('Accuracy: ' + str(correct_predict_count / len(fnames) * 100) + ' , High count: ' + str(high_accuracy_count))\n",
    "    "
   ]
  },
  {
   "cell_type": "markdown",
   "metadata": {},
   "source": [
    "### Test the model\n",
    "Caculate the accuracy for the model  for the the test dataset by using a multi-threaded predictor API."
   ]
  },
  {
   "cell_type": "code",
   "execution_count": 19,
   "metadata": {},
   "outputs": [
    {
     "name": "stdout",
     "output_type": "stream",
     "text": [
      "Found 471 images belonging to 1 classes.\n",
      "roads:62.74999999999999\n",
      "Found 736 images belonging to 1 classes.\n",
      "roads:70.5\n"
     ]
    }
   ],
   "source": [
    "for curr_class in [POSITIVE_CLASS, NEGATIVE_CLASS]:   \n",
    "    test_generator = test_datagen.flow_from_directory(\n",
    "            test_dir,\n",
    "            target_size=(IMAGE_SIZE, IMAGE_SIZE),\n",
    "            batch_size=BATCH_SIZE,\n",
    "            classes = [curr_class],\n",
    "            save_to_dir=aug_dir,\n",
    "            save_format='jpeg',\n",
    "            class_mode=None)\n",
    "    predictions = model.predict_generator(test_generator, 40, max_queue_size=10, workers=8, use_multiprocessing=False, verbose=0)\n",
    "    predictions = np.asarray(predictions).flatten()\n",
    "    correct_count = 0\n",
    "\n",
    "    for idx, x in enumerate(predictions):\n",
    "        if curr_class == POSITIVE_CLASS and x >= 0.5:\n",
    "            correct_count += 1\n",
    "        elif curr_class == NEGATIVE_CLASS and x < 0.5:\n",
    "            correct_count += 1\n",
    "    print(cur_class + ':' + str(correct_count / len(predictions) * 100))"
   ]
  }
 ],
 "metadata": {
  "kernelspec": {
   "display_name": "Python 3",
   "language": "python",
   "name": "python3"
  },
  "language_info": {
   "codemirror_mode": {
    "name": "ipython",
    "version": 3
   },
   "file_extension": ".py",
   "mimetype": "text/x-python",
   "name": "python",
   "nbconvert_exporter": "python",
   "pygments_lexer": "ipython3",
   "version": "3.6.1"
  }
 },
 "nbformat": 4,
 "nbformat_minor": 2
}
